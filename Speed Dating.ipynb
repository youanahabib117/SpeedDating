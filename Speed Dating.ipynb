{
 "cells": [
  {
   "cell_type": "markdown",
   "id": "23d0cf7e",
   "metadata": {},
   "source": [
    "# Speed Dating Dataset Machine Learning - Supervised Learning"
   ]
  },
  {
   "cell_type": "code",
   "execution_count": null,
   "id": "27922946",
   "metadata": {},
   "outputs": [],
   "source": []
  },
  {
   "cell_type": "markdown",
   "id": "1073f5f3",
   "metadata": {},
   "source": [
    "### Brief Dataset Summary"
   ]
  },
  {
   "cell_type": "markdown",
   "id": "16a05995",
   "metadata": {},
   "source": [
    "This dataset was gathered from individuals participating in 21 speed dating events from 2002-2004. During these events, the attendees would have 4 minutes with each participant of the opposite sex. After each of the 4 minute rounds, the participants would be asked to rate the other participant on the following attributes: attractiveness, sincerity, intelligence, fun, ambition, and shared interests. In addition, this dataset includes answers from a questionnaire that the participants had to fill out at different times which include demographics, dating habits, preferences/opinions and lifestyle. Ultimately, these participants decide if they would like to see their date again or not. "
   ]
  },
  {
   "cell_type": "markdown",
   "id": "aee4e2ea",
   "metadata": {},
   "source": [
    "### Project Topic: Explanation"
   ]
  },
  {
   "cell_type": "markdown",
   "id": "274bd087",
   "metadata": {},
   "source": [
    "For this project, I would like to predict whether or not the two people matched based off their rating of their date. This will be done using supervised machine learning, specifically using a classification task. I would like to use multiple supervised machine learning methods such as decision tree, random forest, gradient boosting, and naive bayesian classification. The accuracy rate of each of these methods will be compared and the best method will be chosen."
   ]
  },
  {
   "cell_type": "markdown",
   "id": "f31dc036",
   "metadata": {},
   "source": [
    "### Project Topic: Goal"
   ]
  },
  {
   "cell_type": "markdown",
   "id": "1e68df31",
   "metadata": {},
   "source": [
    "This project will reveal what the most important attributes that people look for are when looking for their significant other. This research can improve the matchmaking process. If we are able to build a model that predicts whether or not two people will be a match, we can create a couple matching algorithm that can match people online."
   ]
  },
  {
   "cell_type": "markdown",
   "id": "f3ae405d",
   "metadata": {},
   "source": [
    "# need to fix the goal ^^^^^^^"
   ]
  },
  {
   "cell_type": "markdown",
   "id": "8e371ffb",
   "metadata": {},
   "source": [
    "### Data: Source"
   ]
  },
  {
   "cell_type": "markdown",
   "id": "65c64c6b",
   "metadata": {},
   "source": [
    "The following data is from a single source (Columbia Business School) who gathered the data via multiple questionnaires filled out at different times by the participants."
   ]
  },
  {
   "cell_type": "markdown",
   "id": "dde477b7",
   "metadata": {},
   "source": [
    "Fisman, R., Lyengar, S. (2004). *Speed Dating Data* [Data Set]. Columbia Business School.         https://www.openml.org/search?type=data&sort=runs&id=40536&status=active."
   ]
  },
  {
   "cell_type": "markdown",
   "id": "14e61c7c",
   "metadata": {},
   "source": [
    "### Loading the Data:"
   ]
  },
  {
   "cell_type": "code",
   "execution_count": 1,
   "id": "46fe7d3b",
   "metadata": {},
   "outputs": [
    {
     "name": "stdout",
     "output_type": "stream",
     "text": [
      "Channels:\n",
      " - defaults\n",
      "Platform: osx-64\n",
      "Collecting package metadata (repodata.json): done\n",
      "Solving environment: done\n",
      "\n",
      "## Package Plan ##\n",
      "\n",
      "  environment location: /opt/anaconda3\n",
      "\n",
      "  added / updated specs:\n",
      "    - pandoc\n",
      "\n",
      "\n",
      "The following packages will be downloaded:\n",
      "\n",
      "    package                    |            build\n",
      "    ---------------------------|-----------------\n",
      "    pandoc-2.12                |       hecd8cb5_3        12.1 MB\n",
      "    ------------------------------------------------------------\n",
      "                                           Total:        12.1 MB\n",
      "\n",
      "The following NEW packages will be INSTALLED:\n",
      "\n",
      "  pandoc             pkgs/main/osx-64::pandoc-2.12-hecd8cb5_3 \n",
      "\n",
      "\n",
      "\n",
      "Downloading and Extracting Packages:\n",
      "                                                                                \n",
      "Preparing transaction: done\n",
      "Verifying transaction: | WARNING conda.core.path_actions:verify(1050): Unable to create environments file. Path not writable.\n",
      "  environment location: /Users/youanahabib/.conda/environments.txt\n",
      "\n",
      "done\n",
      "Executing transaction: done\n",
      "\n",
      "Note: you may need to restart the kernel to use updated packages.\n"
     ]
    }
   ],
   "source": [
    "conda install pandoc"
   ]
  },
  {
   "cell_type": "code",
   "execution_count": 177,
   "id": "8a304bea",
   "metadata": {
    "scrolled": false
   },
   "outputs": [
    {
     "name": "stdout",
     "output_type": "stream",
     "text": [
      "Requirement already satisfied: xgboost in /opt/anaconda3/lib/python3.11/site-packages (2.1.1)\n",
      "Requirement already satisfied: numpy in /opt/anaconda3/lib/python3.11/site-packages (from xgboost) (1.26.4)\n",
      "Requirement already satisfied: scipy in /opt/anaconda3/lib/python3.11/site-packages (from xgboost) (1.11.4)\n",
      "Note: you may need to restart the kernel to use updated packages.\n"
     ]
    }
   ],
   "source": [
    "#installing needed package\n",
    "%pip install xgboost"
   ]
  },
  {
   "cell_type": "code",
   "execution_count": 1,
   "id": "0d031dba",
   "metadata": {},
   "outputs": [],
   "source": [
    "#loading the required libraries\n",
    "import pandas as pd\n",
    "import seaborn as sns\n",
    "import matplotlib.pyplot as plt\n",
    "import numpy as np\n",
    "from scipy import stats\n",
    "from sklearn.model_selection import train_test_split, RandomizedSearchCV\n",
    "from sklearn import ensemble\n",
    "from sklearn.ensemble import RandomForestClassifier\n",
    "from sklearn.metrics import accuracy_score, precision_score\n",
    "from xgboost import XGBClassifier\n",
    "from sklearn.impute import SimpleImputer\n",
    "from sklearn.tree import DecisionTreeClassifier\n",
    "from scipy.stats import randint\n",
    "from sklearn.naive_bayes import GaussianNB"
   ]
  },
  {
   "cell_type": "code",
   "execution_count": 3,
   "id": "c85e0c45",
   "metadata": {
    "scrolled": true
   },
   "outputs": [],
   "source": [
    "SpeedDating = pd.read_csv(\"SpeedDatingData.csv\", encoding='latin1')"
   ]
  },
  {
   "cell_type": "code",
   "execution_count": 4,
   "id": "81e14527",
   "metadata": {
    "scrolled": true
   },
   "outputs": [
    {
     "data": {
      "text/html": [
       "<div>\n",
       "<style scoped>\n",
       "    .dataframe tbody tr th:only-of-type {\n",
       "        vertical-align: middle;\n",
       "    }\n",
       "\n",
       "    .dataframe tbody tr th {\n",
       "        vertical-align: top;\n",
       "    }\n",
       "\n",
       "    .dataframe thead th {\n",
       "        text-align: right;\n",
       "    }\n",
       "</style>\n",
       "<table border=\"1\" class=\"dataframe\">\n",
       "  <thead>\n",
       "    <tr style=\"text-align: right;\">\n",
       "      <th></th>\n",
       "      <th>iid</th>\n",
       "      <th>id</th>\n",
       "      <th>gender</th>\n",
       "      <th>idg</th>\n",
       "      <th>condtn</th>\n",
       "      <th>wave</th>\n",
       "      <th>round</th>\n",
       "      <th>position</th>\n",
       "      <th>positin1</th>\n",
       "      <th>order</th>\n",
       "      <th>...</th>\n",
       "      <th>attr3_3</th>\n",
       "      <th>sinc3_3</th>\n",
       "      <th>intel3_3</th>\n",
       "      <th>fun3_3</th>\n",
       "      <th>amb3_3</th>\n",
       "      <th>attr5_3</th>\n",
       "      <th>sinc5_3</th>\n",
       "      <th>intel5_3</th>\n",
       "      <th>fun5_3</th>\n",
       "      <th>amb5_3</th>\n",
       "    </tr>\n",
       "  </thead>\n",
       "  <tbody>\n",
       "    <tr>\n",
       "      <th>0</th>\n",
       "      <td>1</td>\n",
       "      <td>1.0</td>\n",
       "      <td>0</td>\n",
       "      <td>1</td>\n",
       "      <td>1</td>\n",
       "      <td>1</td>\n",
       "      <td>10</td>\n",
       "      <td>7</td>\n",
       "      <td>NaN</td>\n",
       "      <td>4</td>\n",
       "      <td>...</td>\n",
       "      <td>5.0</td>\n",
       "      <td>7.0</td>\n",
       "      <td>7.0</td>\n",
       "      <td>7.0</td>\n",
       "      <td>7.0</td>\n",
       "      <td>NaN</td>\n",
       "      <td>NaN</td>\n",
       "      <td>NaN</td>\n",
       "      <td>NaN</td>\n",
       "      <td>NaN</td>\n",
       "    </tr>\n",
       "    <tr>\n",
       "      <th>1</th>\n",
       "      <td>1</td>\n",
       "      <td>1.0</td>\n",
       "      <td>0</td>\n",
       "      <td>1</td>\n",
       "      <td>1</td>\n",
       "      <td>1</td>\n",
       "      <td>10</td>\n",
       "      <td>7</td>\n",
       "      <td>NaN</td>\n",
       "      <td>3</td>\n",
       "      <td>...</td>\n",
       "      <td>5.0</td>\n",
       "      <td>7.0</td>\n",
       "      <td>7.0</td>\n",
       "      <td>7.0</td>\n",
       "      <td>7.0</td>\n",
       "      <td>NaN</td>\n",
       "      <td>NaN</td>\n",
       "      <td>NaN</td>\n",
       "      <td>NaN</td>\n",
       "      <td>NaN</td>\n",
       "    </tr>\n",
       "    <tr>\n",
       "      <th>2</th>\n",
       "      <td>1</td>\n",
       "      <td>1.0</td>\n",
       "      <td>0</td>\n",
       "      <td>1</td>\n",
       "      <td>1</td>\n",
       "      <td>1</td>\n",
       "      <td>10</td>\n",
       "      <td>7</td>\n",
       "      <td>NaN</td>\n",
       "      <td>10</td>\n",
       "      <td>...</td>\n",
       "      <td>5.0</td>\n",
       "      <td>7.0</td>\n",
       "      <td>7.0</td>\n",
       "      <td>7.0</td>\n",
       "      <td>7.0</td>\n",
       "      <td>NaN</td>\n",
       "      <td>NaN</td>\n",
       "      <td>NaN</td>\n",
       "      <td>NaN</td>\n",
       "      <td>NaN</td>\n",
       "    </tr>\n",
       "    <tr>\n",
       "      <th>3</th>\n",
       "      <td>1</td>\n",
       "      <td>1.0</td>\n",
       "      <td>0</td>\n",
       "      <td>1</td>\n",
       "      <td>1</td>\n",
       "      <td>1</td>\n",
       "      <td>10</td>\n",
       "      <td>7</td>\n",
       "      <td>NaN</td>\n",
       "      <td>5</td>\n",
       "      <td>...</td>\n",
       "      <td>5.0</td>\n",
       "      <td>7.0</td>\n",
       "      <td>7.0</td>\n",
       "      <td>7.0</td>\n",
       "      <td>7.0</td>\n",
       "      <td>NaN</td>\n",
       "      <td>NaN</td>\n",
       "      <td>NaN</td>\n",
       "      <td>NaN</td>\n",
       "      <td>NaN</td>\n",
       "    </tr>\n",
       "    <tr>\n",
       "      <th>4</th>\n",
       "      <td>1</td>\n",
       "      <td>1.0</td>\n",
       "      <td>0</td>\n",
       "      <td>1</td>\n",
       "      <td>1</td>\n",
       "      <td>1</td>\n",
       "      <td>10</td>\n",
       "      <td>7</td>\n",
       "      <td>NaN</td>\n",
       "      <td>7</td>\n",
       "      <td>...</td>\n",
       "      <td>5.0</td>\n",
       "      <td>7.0</td>\n",
       "      <td>7.0</td>\n",
       "      <td>7.0</td>\n",
       "      <td>7.0</td>\n",
       "      <td>NaN</td>\n",
       "      <td>NaN</td>\n",
       "      <td>NaN</td>\n",
       "      <td>NaN</td>\n",
       "      <td>NaN</td>\n",
       "    </tr>\n",
       "  </tbody>\n",
       "</table>\n",
       "<p>5 rows × 195 columns</p>\n",
       "</div>"
      ],
      "text/plain": [
       "   iid   id  gender  idg  condtn  wave  round  position  positin1  order  ...  \\\n",
       "0    1  1.0       0    1       1     1     10         7       NaN      4  ...   \n",
       "1    1  1.0       0    1       1     1     10         7       NaN      3  ...   \n",
       "2    1  1.0       0    1       1     1     10         7       NaN     10  ...   \n",
       "3    1  1.0       0    1       1     1     10         7       NaN      5  ...   \n",
       "4    1  1.0       0    1       1     1     10         7       NaN      7  ...   \n",
       "\n",
       "   attr3_3  sinc3_3  intel3_3  fun3_3  amb3_3  attr5_3  sinc5_3  intel5_3  \\\n",
       "0      5.0      7.0       7.0     7.0     7.0      NaN      NaN       NaN   \n",
       "1      5.0      7.0       7.0     7.0     7.0      NaN      NaN       NaN   \n",
       "2      5.0      7.0       7.0     7.0     7.0      NaN      NaN       NaN   \n",
       "3      5.0      7.0       7.0     7.0     7.0      NaN      NaN       NaN   \n",
       "4      5.0      7.0       7.0     7.0     7.0      NaN      NaN       NaN   \n",
       "\n",
       "   fun5_3  amb5_3  \n",
       "0     NaN     NaN  \n",
       "1     NaN     NaN  \n",
       "2     NaN     NaN  \n",
       "3     NaN     NaN  \n",
       "4     NaN     NaN  \n",
       "\n",
       "[5 rows x 195 columns]"
      ]
     },
     "execution_count": 4,
     "metadata": {},
     "output_type": "execute_result"
    }
   ],
   "source": [
    "SpeedDating.head()"
   ]
  },
  {
   "cell_type": "code",
   "execution_count": 5,
   "id": "9f196b0f",
   "metadata": {},
   "outputs": [
    {
     "name": "stdout",
     "output_type": "stream",
     "text": [
      "<class 'pandas.core.frame.DataFrame'>\n",
      "RangeIndex: 8378 entries, 0 to 8377\n",
      "Columns: 195 entries, iid to amb5_3\n",
      "dtypes: float64(174), int64(13), object(8)\n",
      "memory usage: 12.5+ MB\n"
     ]
    }
   ],
   "source": [
    "SpeedDating.info()"
   ]
  },
  {
   "cell_type": "code",
   "execution_count": 6,
   "id": "3563b5ac",
   "metadata": {
    "scrolled": true
   },
   "outputs": [
    {
     "name": "stdout",
     "output_type": "stream",
     "text": [
      "(8378, 195)\n"
     ]
    }
   ],
   "source": [
    "print(SpeedDating.shape)"
   ]
  },
  {
   "cell_type": "markdown",
   "id": "59a4cd5c",
   "metadata": {},
   "source": [
    "### Data: Description"
   ]
  },
  {
   "cell_type": "markdown",
   "id": "c7daadf9",
   "metadata": {},
   "source": [
    "8378 samples(rows), 195 features (columns)\n",
    "\n",
    "Data types of the columns:\n",
    "- 174 float64\n",
    "- 13 int64\n",
    "- 8 object\n",
    "\n",
    "Of the 195 features, 22 of them were categorical and 173 of them were numerical. \n",
    "- Of the 22 categorical features, 9 of them were binary, 13 of them were ordinal, and none of them were ordinal. \n",
    "- Of the 173 numerical features, 41 of them were discrete and 132 of them were continuous.\n",
    "\n",
    "(see below)"
   ]
  },
  {
   "cell_type": "markdown",
   "id": "9fd2210f",
   "metadata": {},
   "source": [
    "Categorical:\n",
    "- **Binary:** 'gender', 'condtn', 'match', 'samerace', 'dec_o', 'met_o', 'dec', 'met', 'date_3', \n",
    "\n",
    "- **Ordinal:**\n",
    "\n",
    "- **Nominal:** 'race_o', 'field', 'field_cd', 'undergra', 'race', 'from', 'zipcode', 'goal', 'date', 'go_out', 'career', 'career_c', 'length', \n",
    "\n",
    "Numberical:\n",
    "- **Discrete:** 'iid', 'id', 'idg', 'wave', 'round', 'position', 'positin1', 'order', 'partner', 'pid', 'age_o', 'age', 'mn_sat', 'imprace', 'imprelig', 'sports', 'tvsports', 'exercise', 'dining', 'museums', 'art', 'hiking', 'gaming', 'clubbing', 'reading', 'tv', 'theater', 'movies', 'concerts', 'music', 'shopping', 'yoga', 'exphappy', 'expnum', 'match_es', 'satis_2', 'numdat_2', 'you_call', 'them_cal', 'numdat_3', 'num_in_3', \n",
    "\n",
    "- **Continuous:** 'int_corr', 'pf_o_att', 'pf_o_sin', 'pf_o_int', 'pf_o_fun', 'pf_o_amb', 'pf_o_sha', 'attr_o', 'sinc_o', 'intel_o', 'fun_o', 'amb_o', 'shar_o', 'like_o', 'prob_o', 'tuition', 'income', 'attr1_1', 'sinc1_1', 'intel1_1', 'fun1_1', 'amb1_1', 'shar1_1', 'attr4_1', 'sinc4_1', 'intel4_1', 'fun4_1', 'amb4_1', 'shar4_1', 'attr2_1', 'sinc2_1', 'intel2_1', 'fun2_1', 'amb2_1', 'shar2_1', 'attr3_1', 'sinc3_1', 'fun3_1', 'intel3_1', 'amb3_1', 'attr5_1', 'sinc5_1', 'intel5_1', 'fun5_1', 'amb5_1', 'attr', 'sinc', 'intel', 'fun', 'amb', 'shar', 'like', 'prob', 'attr1_s', 'sinc1_s', 'intel1_s', 'fun1_s', 'amb1_s', 'shar1_s', 'attr3_s', 'sinc3_s', 'intel3_s', 'fun3_s', 'amb3_s', 'attr7_2', 'sinc7_2', 'intel7_2', 'fun7_2', 'amb7_2', 'shar7_2', 'attr1_2', 'sinc1_2', 'intel1_2', 'fun1_2', 'amb1_2', 'shar1_2', 'attr4_2', 'sinc4_2', 'intel4_2', 'fun4_2', 'amb4_2', 'shar4_2', 'attr2_2', 'sinc2_2', 'intel2_2', 'fun2_2', 'amb2_2', 'shar2_2', 'attr3_2', 'sinc3_2', 'intel3_2', 'fun3_2', 'amb3_2', 'attr5_2', 'sinc5_2', 'intel5_2', 'fun5_2', 'amb5_2', 'attr1_3', 'sinc1_3', 'intel1_3', 'fun1_3', 'amb1_3', 'shar1_3', 'attr7_3', 'sinc7_3', 'intel7_3', 'fun7_3', 'amb7_3', 'shar7_3', 'attr4_3', 'sinc4_3', 'intel4_3', 'fun4_3', 'amb4_3', 'shar4_3', 'attr2_3', 'sinc2_3', 'intel2_3', 'fun2_3', 'amb2_3', 'shar2_3', 'attr3_3', 'sinc3_3', 'intel3_3', 'fun3_3', 'amb3_3', 'attr5_3', 'sinc5_3', 'intel5_3', 'fun5_3', 'amb5_3'"
   ]
  },
  {
   "cell_type": "markdown",
   "id": "25d9399b",
   "metadata": {},
   "source": [
    "#### Attribute Description: \n",
    "##### (Due to having 195 attributes, condensed descriptions are listed below - some will be removed later on)\n",
    "- 'iid' = Unique subject number \n",
    "- 'id' = Subject number within wave\n",
    "- 'gender' = Gender of the participant (F = 0, M = 1)\n",
    "- 'idg' = Subject number within gender\n",
    "- 'condtn' = Number of choices (limited = 1, extensive = 2)\n",
    "- 'wave' = Speed dating event number\n",
    "- 'round' = Round number\n",
    "- 'position'/'positin1' = Station number where individual met partner/station number hwere individual started\n",
    "- 'order' = The number of date that night when met partner\n",
    "- 'partner' = Partner's id number the night of event\n",
    "- 'pid' = Partner's iid number\n",
    "- 'match' = Match or not (no match = 0, match = 1)\n",
    "- 'int_corr' = Correlation between participant’s and partner’s ratings of interests at Time 1**\n",
    "- 'samerace' = Participant and partner were of the same race (yes = 1, no = 1)\n",
    "- 'age_o' = Age of partner\n",
    "- 'race_o' = Race of partner (Black/African American=1, European/Caucasian-American=2, Latino/Hispanic American=3, Asian/Pacific Islander/Asian-American=4, Native American=5, Other=6)\n",
    "- 'pf_o_attribute' = partner’s stated preference at Time 1 (attr1_1) for all 6 attributes ------------\n",
    "- 'dec_o' = decision of partner the night of event (match = 1, no match = 0)\n",
    "- 'attribute_o' = rating by partner the night of the event for all 6 attributes\n",
    "- 'like_o' = Partner rating on how they liked the participant\n",
    "- 'prob_o' = Partner rating on if they think the participant liked them\n",
    "- 'met_o' = Has the partner met the participant before (yes = 1, no = 0)\n",
    "- 'age' = Age of the participant\n",
    "- 'field' = Field of Study\n",
    "- 'field_cd' = Field of Study Coded (Law = 1, Math = 2, ..., Other = 18)\n",
    "- 'undergra' = School attended for undergrad\n",
    "- 'mn_sat' = Median SAT score for the undergraduate institution they attended\n",
    "- 'tuition' = Tuition of their undergraduate institution\n",
    "- 'race' = Race of the participant\n",
    "- 'imprace' = How important is it that partner is of same race?\n",
    "- 'imprelig' = How important is it that partner is of same religion?\n",
    "- 'from' = Where is the participant from originally?\n",
    "- 'zipcode' = What is the zipcode of the area the participant grew up on?\n",
    "- 'income' = Median household income based on zipcode\n",
    "- 'goal' = Primary goal in participating in this event (coded)\n",
    "- 'date' = How frequently the participant goes on dates (coded)\n",
    "- 'go_out' = How often do you go out, not necessarily on dates (coded)\n",
    "- 'career' = Intended career\n",
    "- 'career_c' = Career (coded)\n",
    "- 'sports', 'tvsports', ... 'yoga' = How interested are you in the following activities\n",
    "- 'exphappy' = How happy do you expect to be with the people you meet during the event?\n",
    "- 'expnum' = How many people do you expect to be interested in you?\n",
    "- 'attr1_1' = Participants rating of the importance of the following attributes in a potential date of theirs at time 1\n",
    "- 'attr4_1' = Participants rating what they think is the importance of the following attributes in a potential date of members of the same gender at time 1\n",
    "- 'attr2_1' = Participants rating what they think is the importance of the following attributes in a potential date of members of the opposite gender at time 1\n",
    "- 'attr3_1' = Participants rating of the following attributes of how they see themselves at time 1\n",
    "- 'attr5_1' = Participants rating of the following attributes of how they think others will see them at time 1\n",
    "- 'dec' = Participants decision of their partner (yes = 1, no = 0)\n",
    "- 'attribute' = Participant's rating of their partner in the following attributes\n",
    "- 'like' = Participant's rating on how they liked their partner?\n",
    "- 'prob' = Participant's rating on if they think their partner liked them\n",
    "- 'met' = Has the participant met their partner before (yes = 1, no = 0)\n",
    "- 'match_es' = How many matches the participant expected themselves to get\n",
    "- 'attr1_s' = Participants rating of the importance of the following attributes in a potential date of theirs halfway through the night\n",
    "- 'attr3_s' = Participants rating of the following attributes of how they see themselves halfway through the night\n",
    "- 'satis_2' = Rating of how satisfied the participants were with the people they met at time 2\n",
    "- 'length' = Rating of the length of 4 minutes per date (too little = 1, too much = 2, just right = 3)\n",
    "- 'numdat_2' = Rating of the number of the dates they had (too little = 1, too much = 2, just right = 3)\n",
    "- 'attr7_2' = Participants rating the importance of the following attributes in their decision at time 2\n",
    "- 'attr1_2' = Participants rating what they they look for in terms of the following attributes at time 2\n",
    "- 'attr4_2' = Participants rating what they think is the importance of the following attributes in a potential date of members of the same gender at time 2\n",
    "- 'attr2_2' = Participants rating what they think is the importance of the following attributes in a potential date of members of the opposite gender at time 2\n",
    "- 'attr3_2' = Participants rating of the following attributes of how they see themselves at time 2\n",
    "- 'attr5_2' = Participants rating of the following attributes of how they think others will see them at time 2\n",
    "- 'you_call' = Of your matches, how many have you called to set up a date\n",
    "- 'them_call' = Of your matches, how many have called you to set up a date\n",
    "- 'date_3' = Have you been on a date with any of your matches (yes = 1, no = 0)\n",
    "- 'num_in_3' = How many of your matches have you been on a date with\n",
    "- 'attr1_3' = Participants rating what they look for in terms of the following attributes in a potential date of theirs at time 3\n",
    "- 'attr7_3' = Participants rating the reflection of the actual importance of the following attributes in their decision at time 3\n",
    "- 'attr4_3' = Participants rating what they think is the importance of the following attributes in a potential date of members of the same gender at time 3\n",
    "- 'attr2_3' = Participants rating what they think is the importance of the following attributes in a potential date of members of the opposite gender at time 2\n",
    "- 'attr3_3' = Participants rating of the following attributes of how they see themselves at time 3\n",
    "- 'attr5_3' = Participants rating of the following attributes of how they think others will see them at time 3\n",
    "\n",
    "** Times:\n",
    "- Time 1 = At the time of sign up\n",
    "- Time 2 = The day of the event after participation\n",
    "- Time 3 = 3-4 weeks after being given their matches"
   ]
  },
  {
   "cell_type": "markdown",
   "id": "de670e0a",
   "metadata": {},
   "source": [
    "The data above is from a single table published by Columbia Business School."
   ]
  },
  {
   "cell_type": "markdown",
   "id": "1916b4dc",
   "metadata": {},
   "source": [
    "### Data Cleaning:"
   ]
  },
  {
   "cell_type": "code",
   "execution_count": 7,
   "id": "86f06cb6",
   "metadata": {},
   "outputs": [
    {
     "name": "stdout",
     "output_type": "stream",
     "text": [
      "   iid   id  gender  idg  condtn  wave  round  position  positin1  order  \\\n",
      "0    1  1.0       0    1       1     1     10         7       NaN      4   \n",
      "1    1  1.0       0    1       1     1     10         7       NaN      3   \n",
      "2    1  1.0       0    1       1     1     10         7       NaN     10   \n",
      "3    1  1.0       0    1       1     1     10         7       NaN      5   \n",
      "4    1  1.0       0    1       1     1     10         7       NaN      7   \n",
      "\n",
      "   partner   pid  match  int_corr  samerace  age_o  race_o  pf_o_att  \\\n",
      "0        1  11.0      0      0.14         0   27.0     2.0      35.0   \n",
      "1        2  12.0      0      0.54         0   22.0     2.0      60.0   \n",
      "2        3  13.0      1      0.16         1   22.0     4.0      19.0   \n",
      "3        4  14.0      1      0.61         0   23.0     2.0      30.0   \n",
      "4        5  15.0      1      0.21         0   24.0     3.0      30.0   \n",
      "\n",
      "   pf_o_sin  pf_o_int  pf_o_fun  pf_o_amb  pf_o_sha  dec_o  attr_o  sinc_o  \\\n",
      "0      20.0      20.0      20.0       0.0       5.0      0     6.0     8.0   \n",
      "1       0.0       0.0      40.0       0.0       0.0      0     7.0     8.0   \n",
      "2      18.0      19.0      18.0      14.0      12.0      1    10.0    10.0   \n",
      "3       5.0      15.0      40.0       5.0       5.0      1     7.0     8.0   \n",
      "4      10.0      20.0      10.0      10.0      20.0      1     8.0     7.0   \n",
      "\n",
      "   intel_o  fun_o  amb_o  shar_o  like_o  prob_o  met_o   age field  field_cd  \\\n",
      "0      8.0    8.0    8.0     6.0     7.0     4.0    2.0  21.0   Law       1.0   \n",
      "1     10.0    7.0    7.0     5.0     8.0     4.0    2.0  21.0   Law       1.0   \n",
      "2     10.0   10.0   10.0    10.0    10.0    10.0    1.0  21.0   Law       1.0   \n",
      "3      9.0    8.0    9.0     8.0     7.0     7.0    2.0  21.0   Law       1.0   \n",
      "4      9.0    6.0    9.0     7.0     8.0     6.0    2.0  21.0   Law       1.0   \n",
      "\n",
      "  undergra mn_sat tuition  race  imprace  imprelig     from zipcode  \\\n",
      "0      NaN    NaN     NaN   4.0      2.0       4.0  Chicago  60,521   \n",
      "1      NaN    NaN     NaN   4.0      2.0       4.0  Chicago  60,521   \n",
      "2      NaN    NaN     NaN   4.0      2.0       4.0  Chicago  60,521   \n",
      "3      NaN    NaN     NaN   4.0      2.0       4.0  Chicago  60,521   \n",
      "4      NaN    NaN     NaN   4.0      2.0       4.0  Chicago  60,521   \n",
      "\n",
      "      income  goal  date  go_out  career  career_c  sports  tvsports  \\\n",
      "0  69,487.00   2.0   7.0     1.0  lawyer       NaN     9.0       2.0   \n",
      "1  69,487.00   2.0   7.0     1.0  lawyer       NaN     9.0       2.0   \n",
      "2  69,487.00   2.0   7.0     1.0  lawyer       NaN     9.0       2.0   \n",
      "3  69,487.00   2.0   7.0     1.0  lawyer       NaN     9.0       2.0   \n",
      "4  69,487.00   2.0   7.0     1.0  lawyer       NaN     9.0       2.0   \n",
      "\n",
      "   exercise  dining  museums  art  hiking  gaming  clubbing  reading   tv  \\\n",
      "0       8.0     9.0      1.0  1.0     5.0     1.0       5.0      6.0  9.0   \n",
      "1       8.0     9.0      1.0  1.0     5.0     1.0       5.0      6.0  9.0   \n",
      "2       8.0     9.0      1.0  1.0     5.0     1.0       5.0      6.0  9.0   \n",
      "3       8.0     9.0      1.0  1.0     5.0     1.0       5.0      6.0  9.0   \n",
      "4       8.0     9.0      1.0  1.0     5.0     1.0       5.0      6.0  9.0   \n",
      "\n",
      "   theater  movies  concerts  music  shopping  yoga  exphappy  expnum  \\\n",
      "0      1.0    10.0      10.0    9.0       8.0   1.0       3.0     2.0   \n",
      "1      1.0    10.0      10.0    9.0       8.0   1.0       3.0     2.0   \n",
      "2      1.0    10.0      10.0    9.0       8.0   1.0       3.0     2.0   \n",
      "3      1.0    10.0      10.0    9.0       8.0   1.0       3.0     2.0   \n",
      "4      1.0    10.0      10.0    9.0       8.0   1.0       3.0     2.0   \n",
      "\n",
      "   attr1_1  sinc1_1  intel1_1  fun1_1  amb1_1  shar1_1  attr4_1  sinc4_1  \\\n",
      "0     15.0     20.0      20.0    15.0    15.0     15.0      NaN      NaN   \n",
      "1     15.0     20.0      20.0    15.0    15.0     15.0      NaN      NaN   \n",
      "2     15.0     20.0      20.0    15.0    15.0     15.0      NaN      NaN   \n",
      "3     15.0     20.0      20.0    15.0    15.0     15.0      NaN      NaN   \n",
      "4     15.0     20.0      20.0    15.0    15.0     15.0      NaN      NaN   \n",
      "\n",
      "   intel4_1  fun4_1  amb4_1  shar4_1  attr2_1  sinc2_1  intel2_1  fun2_1  \\\n",
      "0       NaN     NaN     NaN      NaN     35.0     20.0      15.0    20.0   \n",
      "1       NaN     NaN     NaN      NaN     35.0     20.0      15.0    20.0   \n",
      "2       NaN     NaN     NaN      NaN     35.0     20.0      15.0    20.0   \n",
      "3       NaN     NaN     NaN      NaN     35.0     20.0      15.0    20.0   \n",
      "4       NaN     NaN     NaN      NaN     35.0     20.0      15.0    20.0   \n",
      "\n",
      "   amb2_1  shar2_1  attr3_1  sinc3_1  fun3_1  intel3_1  amb3_1  attr5_1  \\\n",
      "0     5.0      5.0      6.0      8.0     8.0       8.0     7.0      NaN   \n",
      "1     5.0      5.0      6.0      8.0     8.0       8.0     7.0      NaN   \n",
      "2     5.0      5.0      6.0      8.0     8.0       8.0     7.0      NaN   \n",
      "3     5.0      5.0      6.0      8.0     8.0       8.0     7.0      NaN   \n",
      "4     5.0      5.0      6.0      8.0     8.0       8.0     7.0      NaN   \n",
      "\n",
      "   sinc5_1  intel5_1  fun5_1  amb5_1  dec  attr  sinc  intel  fun  amb  shar  \\\n",
      "0      NaN       NaN     NaN     NaN    1   6.0   9.0    7.0  7.0  6.0   5.0   \n",
      "1      NaN       NaN     NaN     NaN    1   7.0   8.0    7.0  8.0  5.0   6.0   \n",
      "2      NaN       NaN     NaN     NaN    1   5.0   8.0    9.0  8.0  5.0   7.0   \n",
      "3      NaN       NaN     NaN     NaN    1   7.0   6.0    8.0  7.0  6.0   8.0   \n",
      "4      NaN       NaN     NaN     NaN    1   5.0   6.0    7.0  7.0  6.0   6.0   \n",
      "\n",
      "   like  prob  met  match_es  attr1_s  sinc1_s  intel1_s  fun1_s  amb1_s  \\\n",
      "0   7.0   6.0  2.0       4.0      NaN      NaN       NaN     NaN     NaN   \n",
      "1   7.0   5.0  1.0       4.0      NaN      NaN       NaN     NaN     NaN   \n",
      "2   7.0   NaN  1.0       4.0      NaN      NaN       NaN     NaN     NaN   \n",
      "3   7.0   6.0  2.0       4.0      NaN      NaN       NaN     NaN     NaN   \n",
      "4   6.0   6.0  2.0       4.0      NaN      NaN       NaN     NaN     NaN   \n",
      "\n",
      "   shar1_s  attr3_s  sinc3_s  intel3_s  fun3_s  amb3_s  satis_2  length  \\\n",
      "0      NaN      NaN      NaN       NaN     NaN     NaN      6.0     2.0   \n",
      "1      NaN      NaN      NaN       NaN     NaN     NaN      6.0     2.0   \n",
      "2      NaN      NaN      NaN       NaN     NaN     NaN      6.0     2.0   \n",
      "3      NaN      NaN      NaN       NaN     NaN     NaN      6.0     2.0   \n",
      "4      NaN      NaN      NaN       NaN     NaN     NaN      6.0     2.0   \n",
      "\n",
      "   numdat_2  attr7_2  sinc7_2  intel7_2  fun7_2  amb7_2  shar7_2  attr1_2  \\\n",
      "0       1.0      NaN      NaN       NaN     NaN     NaN      NaN    19.44   \n",
      "1       1.0      NaN      NaN       NaN     NaN     NaN      NaN    19.44   \n",
      "2       1.0      NaN      NaN       NaN     NaN     NaN      NaN    19.44   \n",
      "3       1.0      NaN      NaN       NaN     NaN     NaN      NaN    19.44   \n",
      "4       1.0      NaN      NaN       NaN     NaN     NaN      NaN    19.44   \n",
      "\n",
      "   sinc1_2  intel1_2  fun1_2  amb1_2  shar1_2  attr4_2  sinc4_2  intel4_2  \\\n",
      "0    16.67     13.89   22.22   11.11    16.67      NaN      NaN       NaN   \n",
      "1    16.67     13.89   22.22   11.11    16.67      NaN      NaN       NaN   \n",
      "2    16.67     13.89   22.22   11.11    16.67      NaN      NaN       NaN   \n",
      "3    16.67     13.89   22.22   11.11    16.67      NaN      NaN       NaN   \n",
      "4    16.67     13.89   22.22   11.11    16.67      NaN      NaN       NaN   \n",
      "\n",
      "   fun4_2  amb4_2  shar4_2  attr2_2  sinc2_2  intel2_2  fun2_2  amb2_2  \\\n",
      "0     NaN     NaN      NaN      NaN      NaN       NaN     NaN     NaN   \n",
      "1     NaN     NaN      NaN      NaN      NaN       NaN     NaN     NaN   \n",
      "2     NaN     NaN      NaN      NaN      NaN       NaN     NaN     NaN   \n",
      "3     NaN     NaN      NaN      NaN      NaN       NaN     NaN     NaN   \n",
      "4     NaN     NaN      NaN      NaN      NaN       NaN     NaN     NaN   \n",
      "\n",
      "   shar2_2  attr3_2  sinc3_2  intel3_2  fun3_2  amb3_2  attr5_2  sinc5_2  \\\n",
      "0      NaN      6.0      7.0       8.0     7.0     6.0      NaN      NaN   \n",
      "1      NaN      6.0      7.0       8.0     7.0     6.0      NaN      NaN   \n",
      "2      NaN      6.0      7.0       8.0     7.0     6.0      NaN      NaN   \n",
      "3      NaN      6.0      7.0       8.0     7.0     6.0      NaN      NaN   \n",
      "4      NaN      6.0      7.0       8.0     7.0     6.0      NaN      NaN   \n",
      "\n",
      "   intel5_2  fun5_2  amb5_2  you_call  them_cal  date_3  numdat_3  num_in_3  \\\n",
      "0       NaN     NaN     NaN       1.0       1.0     0.0       NaN       NaN   \n",
      "1       NaN     NaN     NaN       1.0       1.0     0.0       NaN       NaN   \n",
      "2       NaN     NaN     NaN       1.0       1.0     0.0       NaN       NaN   \n",
      "3       NaN     NaN     NaN       1.0       1.0     0.0       NaN       NaN   \n",
      "4       NaN     NaN     NaN       1.0       1.0     0.0       NaN       NaN   \n",
      "\n",
      "   attr1_3  sinc1_3  intel1_3  fun1_3  amb1_3  shar1_3  attr7_3  sinc7_3  \\\n",
      "0     15.0     20.0      20.0    15.0    15.0     15.0      NaN      NaN   \n",
      "1     15.0     20.0      20.0    15.0    15.0     15.0      NaN      NaN   \n",
      "2     15.0     20.0      20.0    15.0    15.0     15.0      NaN      NaN   \n",
      "3     15.0     20.0      20.0    15.0    15.0     15.0      NaN      NaN   \n",
      "4     15.0     20.0      20.0    15.0    15.0     15.0      NaN      NaN   \n",
      "\n",
      "   intel7_3  fun7_3  amb7_3  shar7_3  attr4_3  sinc4_3  intel4_3  fun4_3  \\\n",
      "0       NaN     NaN     NaN      NaN      NaN      NaN       NaN     NaN   \n",
      "1       NaN     NaN     NaN      NaN      NaN      NaN       NaN     NaN   \n",
      "2       NaN     NaN     NaN      NaN      NaN      NaN       NaN     NaN   \n",
      "3       NaN     NaN     NaN      NaN      NaN      NaN       NaN     NaN   \n",
      "4       NaN     NaN     NaN      NaN      NaN      NaN       NaN     NaN   \n",
      "\n",
      "   amb4_3  shar4_3  attr2_3  sinc2_3  intel2_3  fun2_3  amb2_3  shar2_3  \\\n",
      "0     NaN      NaN      NaN      NaN       NaN     NaN     NaN      NaN   \n",
      "1     NaN      NaN      NaN      NaN       NaN     NaN     NaN      NaN   \n",
      "2     NaN      NaN      NaN      NaN       NaN     NaN     NaN      NaN   \n",
      "3     NaN      NaN      NaN      NaN       NaN     NaN     NaN      NaN   \n",
      "4     NaN      NaN      NaN      NaN       NaN     NaN     NaN      NaN   \n",
      "\n",
      "   attr3_3  sinc3_3  intel3_3  fun3_3  amb3_3  attr5_3  sinc5_3  intel5_3  \\\n",
      "0      5.0      7.0       7.0     7.0     7.0      NaN      NaN       NaN   \n",
      "1      5.0      7.0       7.0     7.0     7.0      NaN      NaN       NaN   \n",
      "2      5.0      7.0       7.0     7.0     7.0      NaN      NaN       NaN   \n",
      "3      5.0      7.0       7.0     7.0     7.0      NaN      NaN       NaN   \n",
      "4      5.0      7.0       7.0     7.0     7.0      NaN      NaN       NaN   \n",
      "\n",
      "   fun5_3  amb5_3  \n",
      "0     NaN     NaN  \n",
      "1     NaN     NaN  \n",
      "2     NaN     NaN  \n",
      "3     NaN     NaN  \n",
      "4     NaN     NaN  \n"
     ]
    }
   ],
   "source": [
    "pd.set_option('display.max_columns', None)\n",
    "\n",
    "print(SpeedDating.head())\n",
    "\n",
    "# Optionally, reset the display options to default\n",
    "pd.reset_option('display.max_columns')"
   ]
  },
  {
   "cell_type": "code",
   "execution_count": 8,
   "id": "ef4d350e",
   "metadata": {},
   "outputs": [
    {
     "name": "stdout",
     "output_type": "stream",
     "text": [
      "   iid   id  gender  idg  condtn  wave  round  position  positin1  order  ...  \\\n",
      "0    1  1.0       0    1       1     1     10         7       NaN      4  ...   \n",
      "1    1  1.0       0    1       1     1     10         7       NaN      3  ...   \n",
      "2    1  1.0       0    1       1     1     10         7       NaN     10  ...   \n",
      "3    1  1.0       0    1       1     1     10         7       NaN      5  ...   \n",
      "4    1  1.0       0    1       1     1     10         7       NaN      7  ...   \n",
      "\n",
      "   attr3_3  sinc3_3  intel3_3  fun3_3  amb3_3  attr5_3  sinc5_3  intel5_3  \\\n",
      "0      5.0      7.0       7.0     7.0     7.0      NaN      NaN       NaN   \n",
      "1      5.0      7.0       7.0     7.0     7.0      NaN      NaN       NaN   \n",
      "2      5.0      7.0       7.0     7.0     7.0      NaN      NaN       NaN   \n",
      "3      5.0      7.0       7.0     7.0     7.0      NaN      NaN       NaN   \n",
      "4      5.0      7.0       7.0     7.0     7.0      NaN      NaN       NaN   \n",
      "\n",
      "   fun5_3  amb5_3  \n",
      "0     NaN     NaN  \n",
      "1     NaN     NaN  \n",
      "2     NaN     NaN  \n",
      "3     NaN     NaN  \n",
      "4     NaN     NaN  \n",
      "\n",
      "[5 rows x 195 columns]\n"
     ]
    }
   ],
   "source": [
    "print(SpeedDating.head())"
   ]
  },
  {
   "cell_type": "code",
   "execution_count": 9,
   "id": "c2690e3e",
   "metadata": {},
   "outputs": [],
   "source": [
    "#fixing 'income' column to make it more easily readable\n",
    "SpeedDating['income'] = SpeedDating['income'].astype(str)\n",
    "SpeedDating['income'] = SpeedDating['income'].str.replace(',', '')\n",
    "SpeedDating['income'] = SpeedDating['income'].astype(float)"
   ]
  },
  {
   "cell_type": "code",
   "execution_count": 10,
   "id": "f9db2580",
   "metadata": {},
   "outputs": [
    {
     "name": "stdout",
     "output_type": "stream",
     "text": [
      "[ 69487.  65929.     nan  37754.  86340.  60304.  54620.  48652.  29237.\n",
      "  56580.  36782.  38548.  52010.  28418.  43185.  23152.  43664.  48441.\n",
      "  61152.  36485.  41507.  17134.  30038.  33772.  24997.  42096.  28891.\n",
      "  62635.  12063.  29809.  26482.  30147.  39919.  41466.  23988.  28989.\n",
      "  50948.  38022.  47559.  53539.  32159.  53940.  40753.  38207.  46166.\n",
      "  30973.  28317.  26645.  25589.  55223. 109031.  40409.  21597.  76624.\n",
      "  35968.  51725.  55419.  55550.  26682.  41547.  23361.  74893.  52804.\n",
      "  53923.  27094.  57213.  42390.  43636.  57887.  30768.  66699.  45360.\n",
      "  55080.  17378.  40375.  48929.  78193.  63351.  50745.  29279.  38774.\n",
      "  58802.  41831.  52186.  97857.  74624.  21590.  38832.  37248.  28240.\n",
      "  53771.  56096.  31560.  52467.  80006.  47572.  22439.  31383.  40749.\n",
      "  47997.  78704.  31143.  32129.  44195.  46837.  97972.  35960.  65708.\n",
      "  49466.  53229.  32649.  35867.  40244.  42640.  52388.  62875.  30855.\n",
      "  46800.  45695.  46792.  53501.  64716.  27248.  22805.  56118.  30146.\n",
      "  39123.  46153.  45300.  42397.  44346.  42225.  37405.  28524.  61141.\n",
      "   8607.  41476.  49841.  37240.  36594.  62997.  46608.  37881.  48944.\n",
      "  77112.  18283.  31432.  73073.  26706.  50060.  25401.  80608.  43844.\n",
      "  53196.  25786.  39394.  40695.  45788.  37315.  51663.  32563.  54303.\n",
      "  16908.  39729.  57316.  30587.  57513.  31857.  23207.  25831.  28759.\n",
      "  19264.  41778.  35963.  49409.  31516.  36223.  43367.  27503.  35187.\n",
      "  26298.  31148.  55704.  46138.  66827.  42897.  31809.  75347.  47005.\n",
      "  52805.  50725.  65693.  45736.  33906.  50501.  48785.  52318.  62844.\n",
      "  52586.  29236.  31486.  31632. 106663.  84043.  35224.  36381.  65498.\n",
      "  60000.  22669.  81266.  29746.  47556.  42651.  27794.  41737.  90225.\n",
      "  52280.  56056.  60835.  62829.  16767.  42967.  21488.  89977.  18619.\n",
      "  22161.  82734.  40163.  46185.  78844.  29575.  34752.  22173.  37994.\n",
      "  35409.  23707.  57501.  25314.  48876.  34870.  35848.  45017.  12416.\n",
      "  87789.  50572.  49642.  20000.  32508.  35627.  46280.  41191.  71787.\n",
      "  72412.  36510.  32386.  15863.  46272.  48137.  61686.  47624.  36673.\n",
      "  55138.]\n"
     ]
    }
   ],
   "source": [
    "print(SpeedDating['income'].unique())"
   ]
  },
  {
   "cell_type": "code",
   "execution_count": 11,
   "id": "6002adcf",
   "metadata": {},
   "outputs": [
    {
     "name": "stdout",
     "output_type": "stream",
     "text": [
      "(8378, 136)\n"
     ]
    }
   ],
   "source": [
    "#Checking for columns that are NaN for over half of the cells\n",
    "nan_count = SpeedDating.isna().sum()\n",
    "\n",
    "nan = []\n",
    "for col, value in nan_count.items():\n",
    "    if value > (SpeedDating.shape[0] / 2):\n",
    "        nan.append((col, value)) \n",
    "    \n",
    "#The columns in nan have too many missing values to be useful, therefore they will be deleted\n",
    "for col, value in nan:\n",
    "    SpeedDating = SpeedDating.drop(columns = [col])\n",
    "    \n",
    "#Checking shape to ensure proper deletion\n",
    "print(SpeedDating.shape)"
   ]
  },
  {
   "cell_type": "code",
   "execution_count": 12,
   "id": "6f4d17b5",
   "metadata": {
    "scrolled": true
   },
   "outputs": [
    {
     "name": "stdout",
     "output_type": "stream",
     "text": [
      "0       31\n",
      "1       31\n",
      "2       32\n",
      "3       31\n",
      "4       31\n",
      "        ..\n",
      "8373     4\n",
      "8374     2\n",
      "8375     3\n",
      "8376     2\n",
      "8377     2\n",
      "Length: 8378, dtype: int64\n",
      "[]\n"
     ]
    }
   ],
   "source": [
    "#Checking for rows that are NaN for over half of the cells\n",
    "row_nan_count = SpeedDating.isna().sum(axis=1)\n",
    "print(row_nan_count)\n",
    "\n",
    "row_nan = []\n",
    "for col, value in row_nan_count.items():\n",
    "    if value > (SpeedDating.shape[1] / 2):\n",
    "        nan.append((col, value)) \n",
    "\n",
    "print(row_nan)\n",
    "\n",
    "#There are no rows with an excessive amount of NaN values"
   ]
  },
  {
   "cell_type": "code",
   "execution_count": 13,
   "id": "6d478f00",
   "metadata": {},
   "outputs": [],
   "source": [
    "# #viewing NaN values in each column\n",
    "# nan_count = SpeedDating.isna().sum()\n",
    "# list1 = list(SpeedDating.columns)\n",
    "# list2 = list(nan_count)\n",
    "\n",
    "# zipped = zip(list1, list2)\n",
    "\n",
    "# zipped_list = list(zipped)\n",
    "# print(zipped_list)"
   ]
  },
  {
   "cell_type": "code",
   "execution_count": 14,
   "id": "e56a1359",
   "metadata": {
    "scrolled": true
   },
   "outputs": [
    {
     "name": "stdout",
     "output_type": "stream",
     "text": [
      "(8378, 103)\n",
      "['gender', 'condtn', 'wave', 'round', 'order', 'match', 'int_corr', 'samerace', 'age_o', 'race_o', 'pf_o_att', 'pf_o_sin', 'pf_o_int', 'pf_o_fun', 'pf_o_amb', 'pf_o_sha', 'attr_o', 'sinc_o', 'intel_o', 'fun_o', 'amb_o', 'shar_o', 'prob_o', 'met_o', 'age', 'field_cd', 'race', 'imprace', 'imprelig', 'income', 'goal', 'date', 'go_out', 'career_c', 'exphappy', 'attr1_1', 'sinc1_1', 'intel1_1', 'fun1_1', 'amb1_1', 'shar1_1', 'attr4_1', 'sinc4_1', 'intel4_1', 'fun4_1', 'amb4_1', 'shar4_1', 'attr2_1', 'sinc2_1', 'intel2_1', 'fun2_1', 'amb2_1', 'shar2_1', 'attr3_1', 'sinc3_1', 'fun3_1', 'intel3_1', 'amb3_1', 'attr5_1', 'sinc5_1', 'intel5_1', 'fun5_1', 'amb5_1', 'attr', 'sinc', 'intel', 'fun', 'amb', 'shar', 'prob', 'met', 'match_es', 'satis_2', 'length', 'numdat_2', 'attr1_2', 'sinc1_2', 'intel1_2', 'fun1_2', 'amb1_2', 'shar1_2', 'attr4_2', 'sinc4_2', 'intel4_2', 'fun4_2', 'amb4_2', 'shar4_2', 'attr2_2', 'sinc2_2', 'intel2_2', 'fun2_2', 'amb2_2', 'shar2_2', 'attr3_2', 'sinc3_2', 'intel3_2', 'fun3_2', 'amb3_2', 'attr5_2', 'sinc5_2', 'intel5_2', 'fun5_2', 'amb5_2']\n"
     ]
    }
   ],
   "source": [
    "#Following features are irrelevant to the problem we are trying to solve therefore we will remove them\n",
    "irrelevant = ['iid', 'id', 'idg', 'position', 'positin1', 'partner', 'pid']\n",
    "\n",
    "#Features in 'redundant' list are redundant: explained in \"Data Cleaning Conclusions/Discussions\"\n",
    "redundant = ['sports', 'tvsports', 'exercise', 'dining', 'museums', 'art', 'hiking', 'gaming', 'clubbing',\n",
    "             'reading', 'tv', 'theater', 'movies', 'concerts', 'music', 'shopping', 'yoga', 'field', \n",
    "             'career', 'undergra', 'from', 'zipcode']\n",
    "\n",
    "#The following list contains information that suggests whether the individuals matched or not therefore they will be removed\n",
    "spoiler = ['dec_o', 'like_o', 'dec', 'like']\n",
    "\n",
    "\n",
    "remove = irrelevant + redundant + spoiler\n",
    "for col in remove:\n",
    "    SpeedDating = SpeedDating.drop(columns = [col])\n",
    "\n",
    "print(SpeedDating.shape)\n",
    "\n",
    "print(list(SpeedDating.columns))"
   ]
  },
  {
   "cell_type": "markdown",
   "id": "ae21f083",
   "metadata": {},
   "source": [
    "#### Data Cleaning Conclusions/Discussions\n",
    "\n",
    "While performing data cleaning, I found that this dataset has a lot of missing values. I chose to delete the columns that had NaN for over half their cells since they have too many missing values for the data to be imputed. I repeated this process for the rows, but no rows had NaN for over half their cells. \n",
    "\n",
    "To further clean the data, I removed some features for a few different reasons. First, I removed features that, according to my domain knowledge, are irrelevant to the problem. This included ID numbers for both the participant and their partner, and which table they were sitting at. As this will not affect whether or not the two are matched, I removed those features. Second, I chose to remove features that I found to be redundant (information that is found in another feature). This included 17 features (sports, tvsports, exercise, ..., shopping, yoga) that gaged the participant's interest in each of the features. This information was gathered to calculate how much in common the participant had with their partner which is quantified in the 'int_corr' feature. For that reason, I knew this information was redundant and therefore I chose to remove them altogether. Some features were redundant since they were later on coded using a number. For example, 'field' contains the individual's field of study while 'field_cd' is a number coded version of the same information. The same thing occurred with 'career' and 'career_c'. In addition, some features were included since they were used to calculate another feature. An example of this was the 'undergra' feature, which contained the individual's undergraduate university, that was used to estimate their intelligence based off the school's median SAT. Same goes for 'from' and 'zipcode' that were used to estimate salary. Third, I removed features that suggested whether the individuals matched or not such as 'like' and 'like_o' where the participant rated their partner and viceversa and 'dec' and 'dec_o' which held the decisions of each of the individuals. \n",
    "\n",
    "Due to the largeness of the dataset, more cleaning will be performed later. I would like to create some visualizations of the data before I remove more features."
   ]
  },
  {
   "cell_type": "code",
   "execution_count": 15,
   "id": "24550788",
   "metadata": {},
   "outputs": [
    {
     "data": {
      "text/plain": [
       "<Axes: xlabel='match'>"
      ]
     },
     "execution_count": 15,
     "metadata": {},
     "output_type": "execute_result"
    },
    {
     "data": {
      "image/png": "[encoded data removed]",
      "text/plain": [
       "<Figure size 640x480 with 1 Axes>"
      ]
     },
     "metadata": {},
     "output_type": "display_data"
    }
   ],
   "source": [
    "SpeedDating['match'].value_counts().plot(kind='bar')"
   ]
  },
  {
   "cell_type": "markdown",
   "id": "509dae3b",
   "metadata": {},
   "source": [
    "Using this visualization, we can see the data is imbalanced. For this reason, accuracy might not be the best metric to use when evaluating models."
   ]
  },
  {
   "cell_type": "markdown",
   "id": "f943ce74",
   "metadata": {},
   "source": [
    "### Exploratory Data Analysis"
   ]
  },
  {
   "cell_type": "markdown",
   "id": "0a8369c0",
   "metadata": {},
   "source": [
    "Correlation Analysis: Done on select features (based on intuition) since there are too many "
   ]
  },
  {
   "cell_type": "code",
   "execution_count": 16,
   "id": "740adb11",
   "metadata": {},
   "outputs": [
    {
     "data": {
      "image/png": "[encoded data removed]",
      "text/plain": [
       "<Figure size 800x600 with 2 Axes>"
      ]
     },
     "metadata": {},
     "output_type": "display_data"
    }
   ],
   "source": [
    "att_for_corr = ['order', 'income', 'age_o', 'age', 'exphappy', 'match_es', 'satis_2', 'int_corr', 'pf_o_att', 'attr_o', 'prob_o', 'attr1_1', 'attr4_1', 'attr2_1', 'attr3_1', 'attr5_1', 'attr', 'attr1_2', 'attr4_2', 'attr2_2', 'attr3_2', 'attr5_2']\n",
    "\n",
    "df1 = SpeedDating[att_for_corr]\n",
    "\n",
    "corr_mat = df1.corr()\n",
    "\n",
    "plt.figure(figsize=(8, 6))\n",
    "sns.heatmap(corr_mat, annot=True, annot_kws={\"size\": 4}, cmap='coolwarm', center=0)\n",
    "plt.title('Correlation Heatmap')\n",
    "plt.show()"
   ]
  },
  {
   "cell_type": "markdown",
   "id": "0824f188",
   "metadata": {},
   "source": [
    "From the heatmap above depicting the correlation matrix, we can see that there is a correlation between a few sets of features:\n",
    "- attr1_1, attr4_1, and attr2_1\n",
    "- attr1_2, attr4_2, and attr2_2\n",
    "- attr3_1 and attr5_1\n",
    "- attr3_2 and attr5_2\n",
    "\n",
    "We will try to eliminate correlated features by keeping one for each set and deleting the rest. \n",
    "\n",
    "Between attr1_1, attr4_1, and attr2_1, intuition says that attr1_1 (participants' rating of the importance of the following attributes in a potential date of theirs at time 1) is more relevant to the problem than the other two. The next set (attr1_2, attr4_2, and attr2_2) follows the same logic and attr 1_2 (...at time 2) will be kept.\n",
    "\n",
    "To decide between attr3_1 and attr5_1 (and attr3_2 and attr5_2), addition testing is needed since intuition does not tell us much."
   ]
  },
  {
   "cell_type": "code",
   "execution_count": 17,
   "id": "61cc4e00",
   "metadata": {},
   "outputs": [
    {
     "name": "stdout",
     "output_type": "stream",
     "text": [
      "Point-biserial correlation: 0.03643889625441256\n",
      "P-value: 0.0009166362430136582\n",
      "Point-biserial correlation: 0.0027897208170439376\n",
      "P-value: 0.845118511734626\n"
     ]
    }
   ],
   "source": [
    "#point biserial correlation is used to measure the relationship between a binary and a continuous variable\n",
    "#this method will be used to determine if attr3_1 or attr5_1 is a better feature to determine 'match' (goal feature)\n",
    "\n",
    "a = SpeedDating['attr3_1']\n",
    "b = SpeedDating['match']\n",
    "\n",
    "mask = ~np.isnan(a) & ~np.isnan(b)\n",
    "a_clean = a[mask]\n",
    "b_clean = b[mask]\n",
    "\n",
    "# Now calculate the point-biserial correlation\n",
    "correlation, p_value = stats.pointbiserialr(a_clean, b_clean)\n",
    "\n",
    "print(\"Point-biserial correlation:\", correlation)\n",
    "print(\"P-value:\", p_value)\n",
    "\n",
    "c = SpeedDating['attr5_1']\n",
    "d = SpeedDating['match']\n",
    "\n",
    "mask = ~np.isnan(c) & ~np.isnan(d)\n",
    "c_clean = c[mask]\n",
    "d_clean = d[mask]\n",
    "\n",
    "# Now calculate the point-biserial correlation\n",
    "correlation, p_value = stats.pointbiserialr(c_clean, d_clean)\n",
    "\n",
    "print(\"Point-biserial correlation:\", correlation)\n",
    "print(\"P-value:\", p_value)"
   ]
  },
  {
   "cell_type": "markdown",
   "id": "2795ef85",
   "metadata": {},
   "source": [
    "Between attr3_1 and attr5_1, a point-biserial correlation was performed between each attribute and the target feature. A high point-biserial correlation reveals that the attribute may have good predictive power for the target. The point-biserial correlation for attr3_1 was higher than that of attr5_1. In addition, the p-value for attr3_1 indicated that this correlation coefficient is significant while the p-value for for attr5_1 indicated that it might be due to chance. For those reasons, attr3_1 will be selected over attr5_1. Same reasoning goes for attr3_2 and attr5_2.\n",
    "\n",
    "Here, an assumption is made that all attributes follow the same pattern. Therefore for all 6 attributes, attribute1_1 will be selected over attribute4_1 and attribute2_1, attribute1_2 will be selected over attribute4_2 and attribute2_2, attribute3_1 will be selected over attribute5_1, and attribute3_2 will be selected over attribute5_2."
   ]
  },
  {
   "cell_type": "code",
   "execution_count": 18,
   "id": "c6377d80",
   "metadata": {},
   "outputs": [],
   "source": [
    "remove = ['attr4_1', 'sinc4_1', 'intel4_1', 'fun4_1', 'amb4_1', 'shar4_1', 'attr2_1', 'sinc2_1', 'intel2_1', \n",
    "          'fun2_1', 'amb2_1', 'shar2_1', 'attr5_1', 'sinc5_1', 'intel5_1', 'fun5_1', 'amb5_1', 'attr4_2', \n",
    "          'sinc4_2', 'intel4_2', 'fun4_2', 'amb4_2', 'shar4_2', 'attr2_2', 'sinc2_2', 'intel2_2', 'fun2_2', \n",
    "          'amb2_2', 'shar2_2', 'attr5_2', 'sinc5_2', 'intel5_2', 'fun5_2', 'amb5_2']\n",
    "\n",
    "for col in remove:\n",
    "    SpeedDating = SpeedDating.drop(columns = [col])"
   ]
  },
  {
   "cell_type": "markdown",
   "id": "d84bd522",
   "metadata": {},
   "source": [
    "Boxplot:"
   ]
  },
  {
   "cell_type": "code",
   "execution_count": 20,
   "id": "faf4fe02",
   "metadata": {},
   "outputs": [
    {
     "data": {
      "image/png": "[encoded data removed]",
      "text/plain": [
       "<Figure size 640x480 with 1 Axes>"
      ]
     },
     "metadata": {},
     "output_type": "display_data"
    }
   ],
   "source": [
    "melted_data = SpeedDating[['attr1_1', 'sinc1_1', 'intel1_1', 'fun1_1', 'amb1_1', 'shar1_1']].melt(var_name='Attribute', value_name='Score')\n",
    "\n",
    "sns.boxplot(x='Attribute', y='Score', data=melted_data, palette='Accent')\n",
    "\n",
    "plt.title('Boxplot')\n",
    "\n",
    "plt.show()"
   ]
  },
  {
   "cell_type": "markdown",
   "id": "c8ff0585",
   "metadata": {},
   "source": [
    "Based off this boxplot, we can see that people tend to say they prefer an attractive and intellectual individual when looking for a partner. This is followed by sincere and fun. Ambition and shared interests are said to be less influential in their decision."
   ]
  },
  {
   "cell_type": "markdown",
   "id": "51b9d608",
   "metadata": {},
   "source": [
    "### Models"
   ]
  },
  {
   "cell_type": "markdown",
   "id": "02954426",
   "metadata": {},
   "source": [
    "Feature Engineering to help models deal with categorial data:"
   ]
  },
  {
   "cell_type": "code",
   "execution_count": 197,
   "id": "2b678a97",
   "metadata": {},
   "outputs": [
    {
     "name": "stdout",
     "output_type": "stream",
     "text": [
      "['gender', 'condtn', 'wave', 'round', 'order', 'match', 'int_corr', 'samerace', 'age_o', 'pf_o_att', 'pf_o_sin', 'pf_o_int', 'pf_o_fun', 'pf_o_amb', 'pf_o_sha', 'attr_o', 'sinc_o', 'intel_o', 'fun_o', 'amb_o', 'shar_o', 'prob_o', 'met_o', 'age', 'field_cd', 'race', 'imprace', 'imprelig', 'income', 'goal', 'date', 'go_out', 'career_c', 'exphappy', 'attr1_1', 'sinc1_1', 'intel1_1', 'fun1_1', 'amb1_1', 'shar1_1', 'attr3_1', 'sinc3_1', 'fun3_1', 'intel3_1', 'amb3_1', 'attr', 'sinc', 'intel', 'fun', 'amb', 'shar', 'prob', 'met', 'match_es', 'satis_2', 'length', 'numdat_2', 'attr1_2', 'sinc1_2', 'intel1_2', 'fun1_2', 'amb1_2', 'shar1_2', 'attr3_2', 'sinc3_2', 'intel3_2', 'fun3_2', 'amb3_2', 'race_o_Asian', 'race_o_Black', 'race_o_Latino', 'race_o_Other', 'race_o_White']\n"
     ]
    }
   ],
   "source": [
    "SpeedDating['race_o'] = SpeedDating['race_o'].map({1: 'Black', 2: 'White', 3: 'Latino', 4: 'Asian', \n",
    "                                                   5: 'NativeAmerican', 6: 'Other'})\n",
    "\n",
    "# Apply One-Hot Encoding\n",
    "SpeedDating = pd.get_dummies(SpeedDating, columns=['race_o'], drop_first=False)\n",
    "\n",
    "print(list(SpeedDating.columns))"
   ]
  },
  {
   "cell_type": "code",
   "execution_count": 198,
   "id": "4f7562e0",
   "metadata": {},
   "outputs": [
    {
     "name": "stdout",
     "output_type": "stream",
     "text": [
      "['gender', 'condtn', 'wave', 'round', 'order', 'match', 'int_corr', 'samerace', 'age_o', 'pf_o_att', 'pf_o_sin', 'pf_o_int', 'pf_o_fun', 'pf_o_amb', 'pf_o_sha', 'attr_o', 'sinc_o', 'intel_o', 'fun_o', 'amb_o', 'shar_o', 'prob_o', 'met_o', 'age', 'race', 'imprace', 'imprelig', 'income', 'goal', 'date', 'go_out', 'career_c', 'exphappy', 'attr1_1', 'sinc1_1', 'intel1_1', 'fun1_1', 'amb1_1', 'shar1_1', 'attr3_1', 'sinc3_1', 'fun3_1', 'intel3_1', 'amb3_1', 'attr', 'sinc', 'intel', 'fun', 'amb', 'shar', 'prob', 'met', 'match_es', 'satis_2', 'length', 'numdat_2', 'attr1_2', 'sinc1_2', 'intel1_2', 'fun1_2', 'amb1_2', 'shar1_2', 'attr3_2', 'sinc3_2', 'intel3_2', 'fun3_2', 'amb3_2', 'race_o_Asian', 'race_o_Black', 'race_o_Latino', 'race_o_Other', 'race_o_White', 'field_cd_Architecture', 'field_cd_Business', 'field_cd_Education', 'field_cd_Engineering', 'field_cd_English', 'field_cd_Film', 'field_cd_FineArts', 'field_cd_History', 'field_cd_Languages', 'field_cd_Law', 'field_cd_Math', 'field_cd_Medical', 'field_cd_Other', 'field_cd_PolSci', 'field_cd_Science', 'field_cd_SocSci', 'field_cd_SocWork', 'field_cd_Undergrad']\n"
     ]
    }
   ],
   "source": [
    "SpeedDating['field_cd'] = SpeedDating['field_cd'].map({1: 'Law', 2: 'Math', 3: 'SocSci', 4: 'Medical', \n",
    "                                                       5: 'Engineering', 6: 'English', 7: 'History', 8: 'Business', \n",
    "                                                      9: 'Education', 10: 'Science', 11: 'SocWork', 12: 'Undergrad', \n",
    "                                                      13: 'PolSci', 14: 'Film', 15: 'FineArts', 16: 'Languages', \n",
    "                                                      17: 'Architecture', 18: 'Other', })\n",
    "\n",
    "# Apply One-Hot Encoding\n",
    "SpeedDating = pd.get_dummies(SpeedDating, columns=['field_cd'], drop_first=False)\n",
    "\n",
    "print(list(SpeedDating.columns))"
   ]
  },
  {
   "cell_type": "code",
   "execution_count": 199,
   "id": "18c9b57a",
   "metadata": {},
   "outputs": [
    {
     "name": "stdout",
     "output_type": "stream",
     "text": [
      "['gender', 'condtn', 'wave', 'round', 'order', 'match', 'int_corr', 'samerace', 'age_o', 'pf_o_att', 'pf_o_sin', 'pf_o_int', 'pf_o_fun', 'pf_o_amb', 'pf_o_sha', 'attr_o', 'sinc_o', 'intel_o', 'fun_o', 'amb_o', 'shar_o', 'prob_o', 'met_o', 'age', 'imprace', 'imprelig', 'income', 'goal', 'date', 'go_out', 'career_c', 'exphappy', 'attr1_1', 'sinc1_1', 'intel1_1', 'fun1_1', 'amb1_1', 'shar1_1', 'attr3_1', 'sinc3_1', 'fun3_1', 'intel3_1', 'amb3_1', 'attr', 'sinc', 'intel', 'fun', 'amb', 'shar', 'prob', 'met', 'match_es', 'satis_2', 'length', 'numdat_2', 'attr1_2', 'sinc1_2', 'intel1_2', 'fun1_2', 'amb1_2', 'shar1_2', 'attr3_2', 'sinc3_2', 'intel3_2', 'fun3_2', 'amb3_2', 'race_o_Asian', 'race_o_Black', 'race_o_Latino', 'race_o_Other', 'race_o_White', 'field_cd_Architecture', 'field_cd_Business', 'field_cd_Education', 'field_cd_Engineering', 'field_cd_English', 'field_cd_Film', 'field_cd_FineArts', 'field_cd_History', 'field_cd_Languages', 'field_cd_Law', 'field_cd_Math', 'field_cd_Medical', 'field_cd_Other', 'field_cd_PolSci', 'field_cd_Science', 'field_cd_SocSci', 'field_cd_SocWork', 'field_cd_Undergrad', 'race_Asian', 'race_Black', 'race_Latino', 'race_Other', 'race_White']\n"
     ]
    }
   ],
   "source": [
    "SpeedDating['race'] = SpeedDating['race'].map({1: 'Black', 2: 'White', 3: 'Latino', 4: 'Asian', 5: 'NativeAmerican', 6: 'Other'})\n",
    "\n",
    "# Apply One-Hot Encoding\n",
    "SpeedDating = pd.get_dummies(SpeedDating, columns=['race'], drop_first=False)\n",
    "\n",
    "print(list(SpeedDating.columns))"
   ]
  },
  {
   "cell_type": "code",
   "execution_count": 200,
   "id": "c9ca48be",
   "metadata": {},
   "outputs": [
    {
     "name": "stdout",
     "output_type": "stream",
     "text": [
      "['gender', 'condtn', 'wave', 'round', 'order', 'match', 'int_corr', 'samerace', 'age_o', 'pf_o_att', 'pf_o_sin', 'pf_o_int', 'pf_o_fun', 'pf_o_amb', 'pf_o_sha', 'attr_o', 'sinc_o', 'intel_o', 'fun_o', 'amb_o', 'shar_o', 'prob_o', 'met_o', 'age', 'imprace', 'imprelig', 'income', 'date', 'go_out', 'career_c', 'exphappy', 'attr1_1', 'sinc1_1', 'intel1_1', 'fun1_1', 'amb1_1', 'shar1_1', 'attr3_1', 'sinc3_1', 'fun3_1', 'intel3_1', 'amb3_1', 'attr', 'sinc', 'intel', 'fun', 'amb', 'shar', 'prob', 'met', 'match_es', 'satis_2', 'length', 'numdat_2', 'attr1_2', 'sinc1_2', 'intel1_2', 'fun1_2', 'amb1_2', 'shar1_2', 'attr3_2', 'sinc3_2', 'intel3_2', 'fun3_2', 'amb3_2', 'race_o_Asian', 'race_o_Black', 'race_o_Latino', 'race_o_Other', 'race_o_White', 'field_cd_Architecture', 'field_cd_Business', 'field_cd_Education', 'field_cd_Engineering', 'field_cd_English', 'field_cd_Film', 'field_cd_FineArts', 'field_cd_History', 'field_cd_Languages', 'field_cd_Law', 'field_cd_Math', 'field_cd_Medical', 'field_cd_Other', 'field_cd_PolSci', 'field_cd_Science', 'field_cd_SocSci', 'field_cd_SocWork', 'field_cd_Undergrad', 'race_Asian', 'race_Black', 'race_Latino', 'race_Other', 'race_White', 'goal_Date', 'goal_FunNight', 'goal_MeetPpl', 'goal_Other', 'goal_SayIDid', 'goal_SerRel']\n"
     ]
    }
   ],
   "source": [
    "SpeedDating['goal'] = SpeedDating['goal'].map({1: 'FunNight', 2: 'MeetPpl', 3: 'Date', 4: 'SerRel', 5: 'SayIDid', 6: 'Other'})\n",
    "\n",
    "# Apply One-Hot Encoding\n",
    "SpeedDating = pd.get_dummies(SpeedDating, columns=['goal'], drop_first=False)\n",
    "\n",
    "print(list(SpeedDating.columns))"
   ]
  },
  {
   "cell_type": "code",
   "execution_count": 201,
   "id": "368b3cc0",
   "metadata": {},
   "outputs": [
    {
     "name": "stdout",
     "output_type": "stream",
     "text": [
      "['gender', 'condtn', 'wave', 'round', 'order', 'match', 'int_corr', 'samerace', 'age_o', 'pf_o_att', 'pf_o_sin', 'pf_o_int', 'pf_o_fun', 'pf_o_amb', 'pf_o_sha', 'attr_o', 'sinc_o', 'intel_o', 'fun_o', 'amb_o', 'shar_o', 'prob_o', 'met_o', 'age', 'imprace', 'imprelig', 'income', 'go_out', 'career_c', 'exphappy', 'attr1_1', 'sinc1_1', 'intel1_1', 'fun1_1', 'amb1_1', 'shar1_1', 'attr3_1', 'sinc3_1', 'fun3_1', 'intel3_1', 'amb3_1', 'attr', 'sinc', 'intel', 'fun', 'amb', 'shar', 'prob', 'met', 'match_es', 'satis_2', 'length', 'numdat_2', 'attr1_2', 'sinc1_2', 'intel1_2', 'fun1_2', 'amb1_2', 'shar1_2', 'attr3_2', 'sinc3_2', 'intel3_2', 'fun3_2', 'amb3_2', 'race_o_Asian', 'race_o_Black', 'race_o_Latino', 'race_o_Other', 'race_o_White', 'field_cd_Architecture', 'field_cd_Business', 'field_cd_Education', 'field_cd_Engineering', 'field_cd_English', 'field_cd_Film', 'field_cd_FineArts', 'field_cd_History', 'field_cd_Languages', 'field_cd_Law', 'field_cd_Math', 'field_cd_Medical', 'field_cd_Other', 'field_cd_PolSci', 'field_cd_Science', 'field_cd_SocSci', 'field_cd_SocWork', 'field_cd_Undergrad', 'race_Asian', 'race_Black', 'race_Latino', 'race_Other', 'race_White', 'goal_Date', 'goal_FunNight', 'goal_MeetPpl', 'goal_Other', 'goal_SayIDid', 'goal_SerRel', 'date_1pM', 'date_1pW', 'date_2pM', 'date_2pW', 'date_Rare', 'date_SevpW', 'date_SevpY']\n"
     ]
    }
   ],
   "source": [
    "SpeedDating['date'] = SpeedDating['date'].map({1: 'SevpW', 2: '2pW', 3: '1pW', 4: '2pM', 5: '1pM', 6: 'SevpY', 7: 'Rare'})\n",
    "\n",
    "# Apply One-Hot Encoding\n",
    "SpeedDating = pd.get_dummies(SpeedDating, columns=['date'], drop_first=False)\n",
    "\n",
    "print(list(SpeedDating.columns))"
   ]
  },
  {
   "cell_type": "code",
   "execution_count": 202,
   "id": "d46235e7",
   "metadata": {},
   "outputs": [
    {
     "name": "stdout",
     "output_type": "stream",
     "text": [
      "['gender', 'condtn', 'wave', 'round', 'order', 'match', 'int_corr', 'samerace', 'age_o', 'pf_o_att', 'pf_o_sin', 'pf_o_int', 'pf_o_fun', 'pf_o_amb', 'pf_o_sha', 'attr_o', 'sinc_o', 'intel_o', 'fun_o', 'amb_o', 'shar_o', 'prob_o', 'met_o', 'age', 'imprace', 'imprelig', 'income', 'career_c', 'exphappy', 'attr1_1', 'sinc1_1', 'intel1_1', 'fun1_1', 'amb1_1', 'shar1_1', 'attr3_1', 'sinc3_1', 'fun3_1', 'intel3_1', 'amb3_1', 'attr', 'sinc', 'intel', 'fun', 'amb', 'shar', 'prob', 'met', 'match_es', 'satis_2', 'length', 'numdat_2', 'attr1_2', 'sinc1_2', 'intel1_2', 'fun1_2', 'amb1_2', 'shar1_2', 'attr3_2', 'sinc3_2', 'intel3_2', 'fun3_2', 'amb3_2', 'race_o_Asian', 'race_o_Black', 'race_o_Latino', 'race_o_Other', 'race_o_White', 'field_cd_Architecture', 'field_cd_Business', 'field_cd_Education', 'field_cd_Engineering', 'field_cd_English', 'field_cd_Film', 'field_cd_FineArts', 'field_cd_History', 'field_cd_Languages', 'field_cd_Law', 'field_cd_Math', 'field_cd_Medical', 'field_cd_Other', 'field_cd_PolSci', 'field_cd_Science', 'field_cd_SocSci', 'field_cd_SocWork', 'field_cd_Undergrad', 'race_Asian', 'race_Black', 'race_Latino', 'race_Other', 'race_White', 'goal_Date', 'goal_FunNight', 'goal_MeetPpl', 'goal_Other', 'goal_SayIDid', 'goal_SerRel', 'date_1pM', 'date_1pW', 'date_2pM', 'date_2pW', 'date_Rare', 'date_SevpW', 'date_SevpY', 'go_out_1pM', 'go_out_1pW', 'go_out_2pM', 'go_out_2pW', 'go_out_Rare', 'go_out_SevpW', 'go_out_SevpY']\n"
     ]
    }
   ],
   "source": [
    "SpeedDating['go_out'] = SpeedDating['go_out'].map({1: 'SevpW', 2: '2pW', 3: '1pW', 4: '2pM', 5: '1pM', 6: 'SevpY', 7: 'Rare'})\n",
    "\n",
    "# Apply One-Hot Encoding\n",
    "SpeedDating = pd.get_dummies(SpeedDating, columns=['go_out'], drop_first=False)\n",
    "\n",
    "print(list(SpeedDating.columns))"
   ]
  },
  {
   "cell_type": "code",
   "execution_count": 203,
   "id": "6711ec02",
   "metadata": {},
   "outputs": [
    {
     "name": "stdout",
     "output_type": "stream",
     "text": [
      "['gender', 'condtn', 'wave', 'round', 'order', 'match', 'int_corr', 'samerace', 'age_o', 'pf_o_att', 'pf_o_sin', 'pf_o_int', 'pf_o_fun', 'pf_o_amb', 'pf_o_sha', 'attr_o', 'sinc_o', 'intel_o', 'fun_o', 'amb_o', 'shar_o', 'prob_o', 'met_o', 'age', 'imprace', 'imprelig', 'income', 'exphappy', 'attr1_1', 'sinc1_1', 'intel1_1', 'fun1_1', 'amb1_1', 'shar1_1', 'attr3_1', 'sinc3_1', 'fun3_1', 'intel3_1', 'amb3_1', 'attr', 'sinc', 'intel', 'fun', 'amb', 'shar', 'prob', 'met', 'match_es', 'satis_2', 'length', 'numdat_2', 'attr1_2', 'sinc1_2', 'intel1_2', 'fun1_2', 'amb1_2', 'shar1_2', 'attr3_2', 'sinc3_2', 'intel3_2', 'fun3_2', 'amb3_2', 'race_o_Asian', 'race_o_Black', 'race_o_Latino', 'race_o_Other', 'race_o_White', 'field_cd_Architecture', 'field_cd_Business', 'field_cd_Education', 'field_cd_Engineering', 'field_cd_English', 'field_cd_Film', 'field_cd_FineArts', 'field_cd_History', 'field_cd_Languages', 'field_cd_Law', 'field_cd_Math', 'field_cd_Medical', 'field_cd_Other', 'field_cd_PolSci', 'field_cd_Science', 'field_cd_SocSci', 'field_cd_SocWork', 'field_cd_Undergrad', 'race_Asian', 'race_Black', 'race_Latino', 'race_Other', 'race_White', 'goal_Date', 'goal_FunNight', 'goal_MeetPpl', 'goal_Other', 'goal_SayIDid', 'goal_SerRel', 'date_1pM', 'date_1pW', 'date_2pM', 'date_2pW', 'date_Rare', 'date_SevpW', 'date_SevpY', 'go_out_1pM', 'go_out_1pW', 'go_out_2pM', 'go_out_2pW', 'go_out_Rare', 'go_out_SevpW', 'go_out_SevpY', 'career_c_Academic', 'career_c_Affairs', 'career_c_Architecture', 'career_c_Arts', 'career_c_Engineer', 'career_c_Finance', 'career_c_Journalism', 'career_c_Law', 'career_c_Medicine', 'career_c_Other', 'career_c_Politics', 'career_c_ProAthl', 'career_c_Psych', 'career_c_RealEstate', 'career_c_SocWork', 'career_c_SpeechPath', 'career_c_Undec']\n"
     ]
    }
   ],
   "source": [
    "SpeedDating['career_c'] = SpeedDating['career_c'].map({1: 'Law', 2: 'Academic', 3: 'Psych', 4: 'Medicine', \n",
    "                                                       5: 'Engineer', 6: 'Arts', 7: 'Finance', 8: 'RealEstate', \n",
    "                                                      9: 'Affairs', 10: 'Undec', 11: 'SocWork', 12: 'SpeechPath', \n",
    "                                                      13: 'Politics', 14: 'ProAthl', 15: 'Other', 16: 'Journalism', \n",
    "                                                      17: 'Architecture'})\n",
    "\n",
    "# Apply One-Hot Encoding\n",
    "SpeedDating = pd.get_dummies(SpeedDating, columns=['career_c'], drop_first=False)\n",
    "\n",
    "print(list(SpeedDating.columns))"
   ]
  },
  {
   "cell_type": "code",
   "execution_count": 204,
   "id": "c19daa53",
   "metadata": {
    "scrolled": true
   },
   "outputs": [
    {
     "name": "stdout",
     "output_type": "stream",
     "text": [
      "['gender', 'condtn', 'wave', 'round', 'order', 'match', 'int_corr', 'samerace', 'age_o', 'pf_o_att', 'pf_o_sin', 'pf_o_int', 'pf_o_fun', 'pf_o_amb', 'pf_o_sha', 'attr_o', 'sinc_o', 'intel_o', 'fun_o', 'amb_o', 'shar_o', 'prob_o', 'met_o', 'age', 'imprace', 'imprelig', 'income', 'exphappy', 'attr1_1', 'sinc1_1', 'intel1_1', 'fun1_1', 'amb1_1', 'shar1_1', 'attr3_1', 'sinc3_1', 'fun3_1', 'intel3_1', 'amb3_1', 'attr', 'sinc', 'intel', 'fun', 'amb', 'shar', 'prob', 'met', 'match_es', 'satis_2', 'numdat_2', 'attr1_2', 'sinc1_2', 'intel1_2', 'fun1_2', 'amb1_2', 'shar1_2', 'attr3_2', 'sinc3_2', 'intel3_2', 'fun3_2', 'amb3_2', 'race_o_Asian', 'race_o_Black', 'race_o_Latino', 'race_o_Other', 'race_o_White', 'field_cd_Architecture', 'field_cd_Business', 'field_cd_Education', 'field_cd_Engineering', 'field_cd_English', 'field_cd_Film', 'field_cd_FineArts', 'field_cd_History', 'field_cd_Languages', 'field_cd_Law', 'field_cd_Math', 'field_cd_Medical', 'field_cd_Other', 'field_cd_PolSci', 'field_cd_Science', 'field_cd_SocSci', 'field_cd_SocWork', 'field_cd_Undergrad', 'race_Asian', 'race_Black', 'race_Latino', 'race_Other', 'race_White', 'goal_Date', 'goal_FunNight', 'goal_MeetPpl', 'goal_Other', 'goal_SayIDid', 'goal_SerRel', 'date_1pM', 'date_1pW', 'date_2pM', 'date_2pW', 'date_Rare', 'date_SevpW', 'date_SevpY', 'go_out_1pM', 'go_out_1pW', 'go_out_2pM', 'go_out_2pW', 'go_out_Rare', 'go_out_SevpW', 'go_out_SevpY', 'career_c_Academic', 'career_c_Affairs', 'career_c_Architecture', 'career_c_Arts', 'career_c_Engineer', 'career_c_Finance', 'career_c_Journalism', 'career_c_Law', 'career_c_Medicine', 'career_c_Other', 'career_c_Politics', 'career_c_ProAthl', 'career_c_Psych', 'career_c_RealEstate', 'career_c_SocWork', 'career_c_SpeechPath', 'career_c_Undec', 'length_little', 'length_much', 'length_right']\n"
     ]
    }
   ],
   "source": [
    "SpeedDating['length'] = SpeedDating['length'].map({1: 'little', 2: 'much', 3: 'right'})\n",
    "\n",
    "# Apply One-Hot Encoding\n",
    "SpeedDating = pd.get_dummies(SpeedDating, columns=['length'], drop_first=False)\n",
    "\n",
    "print(list(SpeedDating.columns))"
   ]
  },
  {
   "cell_type": "markdown",
   "id": "4addfc9e",
   "metadata": {},
   "source": [
    "Data Splitting into training and testing"
   ]
  },
  {
   "cell_type": "code",
   "execution_count": 205,
   "id": "3c8cf80d",
   "metadata": {},
   "outputs": [],
   "source": [
    "x = SpeedDating.drop(columns = 'match')\n",
    "y = SpeedDating['match']\n",
    "\n",
    "X_train, X_test, y_train, y_test = train_test_split(x, y, random_state=0, test_size=0.20, shuffle=True)"
   ]
  },
  {
   "cell_type": "markdown",
   "id": "751d845b",
   "metadata": {},
   "source": [
    "XGBClassifier:"
   ]
  },
  {
   "cell_type": "code",
   "execution_count": 206,
   "id": "d0d413df",
   "metadata": {},
   "outputs": [
    {
     "name": "stdout",
     "output_type": "stream",
     "text": [
      "Accuracy: 0.8854415274463007\n"
     ]
    }
   ],
   "source": [
    "XGB = XGBClassifier()\n",
    "XGB.fit(X_train, y_train)\n",
    "y_pred_XGB = XGB.predict(X_test)\n",
    "accuracy_XGB = accuracy_score(y_test, y_pred_XGB)\n",
    "print(\"Accuracy:\", accuracy_XGB)"
   ]
  },
  {
   "cell_type": "markdown",
   "id": "1b7b7e3b",
   "metadata": {},
   "source": [
    "Many classifiers cannot deal with NaN... so what if we try an imputer"
   ]
  },
  {
   "cell_type": "code",
   "execution_count": 207,
   "id": "110651cd",
   "metadata": {},
   "outputs": [],
   "source": [
    "imputer = SimpleImputer(strategy='mean')\n",
    "SpeedDating_imputed = imputer.fit_transform(SpeedDating)\n",
    "SpeedDating_imputed = pd.DataFrame(SpeedDating_imputed, columns=SpeedDating.columns)"
   ]
  },
  {
   "cell_type": "code",
   "execution_count": 208,
   "id": "d9b450e0",
   "metadata": {},
   "outputs": [],
   "source": [
    "x_imp = SpeedDating_imputed.drop(columns = 'match')\n",
    "y_imp = SpeedDating_imputed['match']\n",
    "\n",
    "X_train_imp, X_test_imp, y_train_imp, y_test_imp = train_test_split(x_imp, y_imp, random_state=0, test_size=0.20, shuffle=True)"
   ]
  },
  {
   "cell_type": "markdown",
   "id": "2d633824",
   "metadata": {},
   "source": [
    "Decision Tree:"
   ]
  },
  {
   "cell_type": "code",
   "execution_count": 231,
   "id": "57281fec",
   "metadata": {},
   "outputs": [
    {
     "name": "stdout",
     "output_type": "stream",
     "text": [
      "Accuracy: 0.7935560859188544\n"
     ]
    }
   ],
   "source": [
    "DT_clf = DecisionTreeClassifier(random_state = 0)\n",
    "\n",
    "DT_clf = DT_clf.fit(X_train_imp, y_train_imp)\n",
    "\n",
    "y_pred_DT = DT_clf.predict(X_test_imp)\n",
    "\n",
    "accuracy_DT = accuracy_score(y_test_imp, y_pred_DT)\n",
    "print(\"Accuracy:\", accuracy_DT)"
   ]
  },
  {
   "cell_type": "markdown",
   "id": "0bac348c",
   "metadata": {},
   "source": [
    "Naive Bayesian Classifier:"
   ]
  },
  {
   "cell_type": "code",
   "execution_count": 232,
   "id": "8fb7d89d",
   "metadata": {},
   "outputs": [
    {
     "name": "stdout",
     "output_type": "stream",
     "text": [
      "Accuracy: 0.7750596658711217\n"
     ]
    }
   ],
   "source": [
    "GNB = GaussianNB()\n",
    "\n",
    "GNB.fit(X_train_imp, y_train_imp)\n",
    "\n",
    "y_pred_GNB = GNB.predict(X_test_imp)\n",
    "\n",
    "accuracy_GNB = accuracy_score(y_test_imp, y_pred_GNB)\n",
    "print(\"Accuracy:\", accuracy_GNB)"
   ]
  },
  {
   "cell_type": "markdown",
   "id": "520cc24f",
   "metadata": {},
   "source": [
    "Random Forest:"
   ]
  },
  {
   "cell_type": "code",
   "execution_count": 273,
   "id": "8969ce7b",
   "metadata": {},
   "outputs": [
    {
     "name": "stdout",
     "output_type": "stream",
     "text": [
      "Accuracy: 0.8597852028639618\n",
      "['fun', 'attr_o', 'attr', 'fun_o', 'prob_o', 'shar_o', 'shar', 'prob', 'int_corr', 'order', 'pf_o_att', 'pf_o_sha', 'pf_o_int', 'pf_o_sin', 'age_o', 'pf_o_fun', 'pf_o_amb', 'match_es', 'sinc_o', 'intel', 'intel_o', 'income', 'amb_o', 'sinc', 'attr1_1', 'amb', 'shar1_1', 'age', 'intel1_1', 'fun1_1', 'wave', 'attr1_2', 'round', 'amb1_1', 'sinc1_1', 'intel1_2', 'amb1_2', 'shar1_2', 'fun1_2', 'sinc1_2', 'satis_2', 'amb3_2', 'exphappy', 'imprelig', 'amb3_1', 'fun3_2', 'imprace', 'sinc3_2', 'attr3_1', 'sinc3_1', 'attr3_2', 'fun3_1', 'intel3_2', 'met_o', 'intel3_1', 'met', 'numdat_2', 'race_o_White', 'race_o_Asian', 'samerace', 'go_out_SevpW', 'career_c_Finance', 'goal_FunNight', 'date_2pM', 'go_out_2pW', 'length_right', 'field_cd_Business', 'go_out_1pW', 'date_SevpY', 'goal_MeetPpl', 'race_White', 'condtn', 'length_little', 'race_o_Latino', 'field_cd_Medical', 'career_c_Academic', 'race_o_Other', 'race_Asian', 'gender', 'field_cd_SocSci', 'race_Latino', 'date_1pM', 'field_cd_Science', 'race_o_Black', 'field_cd_Engineering', 'field_cd_PolSci', 'date_1pW', 'date_Rare', 'date_2pW', 'race_Black', 'career_c_Arts', 'career_c_Psych', 'goal_Date', 'career_c_Medicine', 'career_c_Affairs', 'field_cd_Law', 'field_cd_Education', 'go_out_2pM', 'race_Other', 'field_cd_History', 'career_c_Law', 'goal_SerRel', 'goal_SayIDid', 'field_cd_English', 'length_much', 'field_cd_Film', 'field_cd_SocWork', 'field_cd_Languages', 'goal_Other', 'career_c_Engineer', 'career_c_Undec', 'career_c_SocWork', 'field_cd_FineArts', 'date_SevpW', 'go_out_1pM', 'go_out_SevpY', 'field_cd_Math', 'career_c_Journalism', 'career_c_Other', 'career_c_Politics', 'career_c_ProAthl', 'career_c_RealEstate', 'field_cd_Other', 'go_out_Rare', 'field_cd_Undergrad', 'career_c_SpeechPath', 'career_c_Architecture', 'field_cd_Architecture']\n"
     ]
    }
   ],
   "source": [
    "rf = RandomForestClassifier(random_state = 0)\n",
    "rf.fit(X_train_imp, y_train_imp)\n",
    "y_pred_rf = rf.predict(X_test_imp)\n",
    "\n",
    "accuracy_rf = accuracy_score(y_test_imp, y_pred_rf)\n",
    "print(\"Accuracy:\", accuracy_rf)\n",
    "\n",
    "feature_importances = rf.feature_importances_\n",
    "\n",
    "sorted_indices = np.argsort(feature_importances)[::-1]\n",
    "\n",
    "column_names = [x_imp.columns[i] for i in sorted_indices]\n",
    "\n",
    "print(column_names)"
   ]
  },
  {
   "cell_type": "markdown",
   "id": "c683bb4e",
   "metadata": {},
   "source": [
    "Hyperparameter Tuning for Random Forest:"
   ]
  },
  {
   "cell_type": "code",
   "execution_count": 215,
   "id": "b63b61e4",
   "metadata": {},
   "outputs": [
    {
     "name": "stdout",
     "output_type": "stream",
     "text": [
      "Best hyperparameters: {'max_depth': 15, 'n_estimators': 138}\n"
     ]
    }
   ],
   "source": [
    "param_dist = {'n_estimators': randint(50,500),\n",
    "              'max_depth': randint(1,20)}\n",
    "\n",
    "rf_param_selection = RandomForestClassifier()\n",
    "\n",
    "# Use random search to find the best hyperparameters\n",
    "rand_search = RandomizedSearchCV(rf_param_selection, param_distributions = param_dist, n_iter=10, scoring = 'accuracy', cv=5, random_state = 0)\n",
    "\n",
    "# Fit the random search object to the data\n",
    "rand_search.fit(X_train_imp, y_train_imp)\n",
    "\n",
    "best_rf = rand_search.best_estimator_\n",
    "print('Best hyperparameters:',  rand_search.best_params_)"
   ]
  },
  {
   "cell_type": "code",
   "execution_count": 235,
   "id": "a93661cb",
   "metadata": {
    "scrolled": true
   },
   "outputs": [
    {
     "name": "stdout",
     "output_type": "stream",
     "text": [
      "Accuracy: 0.8633651551312649\n"
     ]
    }
   ],
   "source": [
    "rf_optimized = RandomForestClassifier(max_depth = rand_search.best_params_['max_depth'], n_estimators = rand_search.best_params_['n_estimators'], random_state = 0)\n",
    "rf_optimized.fit(X_train_imp, y_train_imp)\n",
    "y_pred_rfopt = rf_optimized.predict(X_test_imp)\n",
    "\n",
    "accuracy_rfopt = accuracy_score(y_test_imp, y_pred_rfopt)\n",
    "print(\"Accuracy:\", accuracy_rfopt)"
   ]
  },
  {
   "cell_type": "markdown",
   "id": "9d42f5fa",
   "metadata": {},
   "source": [
    "### Results and Analysis"
   ]
  },
  {
   "cell_type": "code",
   "execution_count": 221,
   "id": "89d16bd0",
   "metadata": {},
   "outputs": [
    {
     "data": {
      "image/png": "[encoded data removed]",
      "text/plain": [
       "<Figure size 1000x600 with 1 Axes>"
      ]
     },
     "metadata": {},
     "output_type": "display_data"
    }
   ],
   "source": [
    "#Graph of the accuracies:\n",
    "model_accuracies = {\n",
    "    'XGBClassifier': accuracy_XGB,\n",
    "    'Decision Tree': accuracy_DT,\n",
    "    'Naive Bayesian': accuracy_GNB,\n",
    "    'Random Forest': accuracy_rf,\n",
    "    'RF with Optimization': accuracy_rfopt\n",
    "}\n",
    "\n",
    "models = list(model_accuracies.keys())\n",
    "accuracies = list(model_accuracies.values())\n",
    "\n",
    "plt.figure(figsize=(10, 6))\n",
    "plt.bar(models, accuracies, color='skyblue')\n",
    "\n",
    "plt.show()"
   ]
  },
  {
   "cell_type": "markdown",
   "id": "85e93844",
   "metadata": {},
   "source": [
    "Using the graph above, we can see that XGBClassifier and Naive Bayesian were the models that performed the best according to accuracy. Since the data is imbalanced in its target feature, we will confirm this using a different evaluation metric."
   ]
  },
  {
   "cell_type": "markdown",
   "id": "0beca17b",
   "metadata": {},
   "source": [
    "Calculating precision score"
   ]
  },
  {
   "cell_type": "code",
   "execution_count": 248,
   "id": "2e80ae0b",
   "metadata": {},
   "outputs": [
    {
     "name": "stdout",
     "output_type": "stream",
     "text": [
      "Precision: 0.7081081081081081\n"
     ]
    }
   ],
   "source": [
    "precision_XGB = precision_score(y_test, y_pred_XGB)\n",
    "\n",
    "print(\"Precision:\", precision_XGB)"
   ]
  },
  {
   "cell_type": "code",
   "execution_count": 249,
   "id": "e2677b27",
   "metadata": {},
   "outputs": [
    {
     "name": "stdout",
     "output_type": "stream",
     "text": [
      "Precision: 0.36200716845878134\n"
     ]
    }
   ],
   "source": [
    "y_pred_DT = DT_clf.predict(X_test_imp)\n",
    "\n",
    "precision_DT = precision_score(y_test_imp, y_pred_DT)\n",
    "print(\"Precision:\", precision_DT)"
   ]
  },
  {
   "cell_type": "code",
   "execution_count": 250,
   "id": "a4126c8b",
   "metadata": {
    "scrolled": true
   },
   "outputs": [
    {
     "name": "stdout",
     "output_type": "stream",
     "text": [
      "Precision: 0.3911290322580645\n"
     ]
    }
   ],
   "source": [
    "y_pred_GNB = GNB.predict(X_test_imp)\n",
    "\n",
    "precision_GNB = precision_score(y_test_imp, y_pred_GNB)\n",
    "print(\"Precision:\", precision_GNB)"
   ]
  },
  {
   "cell_type": "code",
   "execution_count": 251,
   "id": "1096eba9",
   "metadata": {
    "scrolled": true
   },
   "outputs": [
    {
     "name": "stdout",
     "output_type": "stream",
     "text": [
      "Precision: 0.7297297297297297\n"
     ]
    }
   ],
   "source": [
    "y_pred_rf = rf.predict(X_test_imp)\n",
    "\n",
    "precision_rf = precision_score(y_test_imp, y_pred_rf)\n",
    "print(\"Precision:\", precision_rf)"
   ]
  },
  {
   "cell_type": "code",
   "execution_count": 252,
   "id": "c778f688",
   "metadata": {},
   "outputs": [
    {
     "name": "stdout",
     "output_type": "stream",
     "text": [
      "Precision: 0.7702702702702703\n"
     ]
    }
   ],
   "source": [
    "y_pred_rfopt = rf_optimized.predict(X_test_imp)\n",
    "\n",
    "precision_rfopt = precision_score(y_test_imp, y_pred_rfopt)\n",
    "print(\"Precision:\", precision_rfopt)"
   ]
  },
  {
   "cell_type": "code",
   "execution_count": 254,
   "id": "07832ac6",
   "metadata": {},
   "outputs": [
    {
     "data": {
      "image/png": "[encoded data removed]",
      "text/plain": [
       "<Figure size 1000x600 with 1 Axes>"
      ]
     },
     "metadata": {},
     "output_type": "display_data"
    }
   ],
   "source": [
    "#Graph of the precision scores:\n",
    "model_precision = {\n",
    "    'XGBClassifier': precision_XGB,\n",
    "    'Decision Tree': precision_DT,\n",
    "    'Naive Bayesian': precision_GNB,\n",
    "    'Random Forest': precision_rf,\n",
    "    'RF with Optimization': precision_rfopt\n",
    "}\n",
    "\n",
    "models = list(model_precision.keys())\n",
    "precisions = list(model_precision.values())\n",
    "\n",
    "plt.figure(figsize=(10, 6))\n",
    "plt.bar(models, precisions, color='skyblue')\n",
    "\n",
    "plt.show()"
   ]
  },
  {
   "cell_type": "markdown",
   "id": "1b3e7edc",
   "metadata": {},
   "source": [
    "#### Results Summary:"
   ]
  },
  {
   "cell_type": "markdown",
   "id": "abd7a4d5",
   "metadata": {},
   "source": [
    "Since the goal of this project is to use the knowledge gained to develop a couple matching algorithm, precision was picked over recall or F1 score since false positives are more costly than false negatives. It is crucial to avoid suggesting incompatible matches (false positives), as this could lead to user dissatisfaction and discourage people from using the platform.\n",
    "\n",
    "When evaluating precision scores, we can see that XGBClassifier and both versions of the Random Forest model, with and without optimization, performed the best. \n",
    "\n",
    "Gradient Boosting is able to perform well since it learns slowly and updates the weights in order to increase its performance.\n",
    "\n",
    "Random Forest has the best performance since it is able to select a subset of the features and use those in order to build the model. We can see that RF performs its best when hyperparameters are optimized (the best values of max_depth and n_estimators are found, via a random cross validation search, and used -- See \"Data Modeling\" section). If I were to choose one model to use, I would use random forest with hyperparameter optimization due to its high precision score.\n",
    "\n",
    "We also found that decision tree and naive bayesian performed significantly poorly. A lower performance is expected since these models generally do not perform well when there are many features."
   ]
  },
  {
   "cell_type": "markdown",
   "id": "41d9280f",
   "metadata": {},
   "source": [
    "#### Discussion/Conclusion:"
   ]
  },
  {
   "cell_type": "markdown",
   "id": "b2b30229",
   "metadata": {},
   "source": [
    "This project provided valuable takeaways and insights into the strengths and weaknesses of different models in handling complex datasets. By examining how each model performed, we observed some models' ability to manage missing values and others' sensitivity to the number of features. This is beneficial for improving future projects, as it highlights which models may be better suited for certain types of data.\n",
    "\n",
    "One key takeaway from this project is the identification of attractiveness, funness, common interests, and how well they think the other person liked them as the most influential factors in determining who individuals choose to date. This information is particularly valuable in the context of building a couple-matching algorithm, as it suggests that using simple techniques, such as a questionnaire focused on the attributes of attractiveness, funness, and interests could effectively match people based on compatibility. What I found very interesting is the fact that how well they think the other person liked them was influential their matching status. If they think the other person liked them, they were more likely to match. There is certainly some psychology here that can be dug into in future research.\n",
    "\n",
    "However, we encountered several challenges during the project, particularly related to missing data. A significant number of NaN values were present in the dataset, and not all could be removed without severely reducing the sample size. Many models, like decision trees and random forests, struggled with this incomplete data. To address this, we used the SimpleImputer to fill in missing values. While this allowed us to apply the models, it was likely not the ideal solution. Given the complexity of the data, many of the imputed values may have been overly generalized, failing to capture the full nuance of the dataset.\n",
    "\n",
    "Looking forward, there are several ways to improve this model. Considering the data's complexity, a neural network could potentially offer a more sophisticated approach to modeling the relationships in the dataset. Additionally, ensuring a more balanced dataset would likely help the models learn more effectively, improving their ability to predict true matches between individuals.\n",
    "\n",
    "In conclusion, this project has not only provided practical insights into model performance but also identified key areas for improvement, particularly around data handling and model selection. The knowledge gained here will be instrumental in refining future iterations and developing more effective couple-matching algorithms."
   ]
  },
  {
   "cell_type": "code",
   "execution_count": null,
   "id": "28cbb0c3",
   "metadata": {},
   "outputs": [],
   "source": []
  }
 ],
 "metadata": {
  "kernelspec": {
   "display_name": "Python 3 (ipykernel)",
   "language": "python",
   "name": "python3"
  },
  "language_info": {
   "codemirror_mode": {
    "name": "ipython",
    "version": 3
   },
   "file_extension": ".py",
   "mimetype": "text/x-python",
   "name": "python",
   "nbconvert_exporter": "python",
   "pygments_lexer": "ipython3",
   "version": "3.11.7"
  }
 },
 "nbformat": 4,
 "nbformat_minor": 5
}
